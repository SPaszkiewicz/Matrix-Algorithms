{
 "cells": [
  {
   "cell_type": "markdown",
   "metadata": {},
   "source": [
    "### Algorytmy Macierzowe lab 2"
   ]
  },
  {
   "cell_type": "markdown",
   "metadata": {},
   "source": [
    "#### Konfiguracja"
   ]
  },
  {
   "cell_type": "code",
   "execution_count": 1,
   "metadata": {},
   "outputs": [],
   "source": [
    "import numpy as np\n",
    "import scipy.linalg\n",
    "from math import log, ceil, pow\n",
    "from typing import Tuple, List"
   ]
  },
  {
   "cell_type": "markdown",
   "metadata": {},
   "source": [
    "#### Generowanie macierzy"
   ]
  },
  {
   "cell_type": "code",
   "execution_count": 2,
   "metadata": {},
   "outputs": [],
   "source": [
    "def generate_matrix(ncols: int, nrows: int):\n",
    "    return np.random.uniform(low=0.00000001, high=1.0, size=(nrows, ncols))"
   ]
  },
  {
   "cell_type": "markdown",
   "metadata": {},
   "source": [
    "#### Licznik operacji"
   ]
  },
  {
   "cell_type": "code",
   "execution_count": 33,
   "metadata": {},
   "outputs": [],
   "source": [
    "class Counter:\n",
    "    def __init__(self) -> None:\n",
    "        self.add_counter = 0\n",
    "        self.mul_counter = 0\n",
    "        self.div_counter = 0\n",
    "        self.sub_counter = 0\n",
    "        self.operation_counter = 0\n",
    "\n",
    "    def add(self, A: np.ndarray, B: np.ndarray) -> np.ndarray:\n",
    "        self.add_counter += A.size\n",
    "        self.operation_counter += A.size\n",
    "        return A + B\n",
    "\n",
    "    def mul(self, A: np.ndarray, B: np.ndarray) -> np.ndarray:\n",
    "        self.mul_counter += 1\n",
    "        self.operation_counter += int(\n",
    "            (A.shape[0]) ** 2.807\n",
    "        )  # we assume Strassen algorithm for multiplication\n",
    "        return A @ B\n",
    "\n",
    "    def inc_flops_mul(self, count: int):\n",
    "        self.operation_counter += count\n",
    "\n",
    "    def print_counters(self) -> None:\n",
    "        print(f\"Number of add operations: {self.add_counter}\")\n",
    "        print(f\"Number of sub operations: {self.sub_counter}\")\n",
    "        print(f\"Number of div operations: {self.div_counter}\")\n",
    "        print(f\"Number of mul operations: {self.mul_counter}\")\n",
    "        print(f\"Number of unit operations: {self.operation_counter}\")"
   ]
  },
  {
   "cell_type": "markdown",
   "metadata": {},
   "source": [
    "#### Funckje pomocniczne"
   ]
  },
  {
   "cell_type": "code",
   "execution_count": 4,
   "metadata": {},
   "outputs": [],
   "source": [
    "def resize_matrix_to_2n(A: np.ndarray):\n",
    "    \"\"\"Change size of matrix to simplify processing\"\"\"\n",
    "    size_A = A.shape\n",
    "    new_height: int = 0\n",
    "    new_width: int = 0\n",
    "\n",
    "    new_height = find_next_power_of_2(size_A[0])\n",
    "\n",
    "    new_width = find_next_power_of_2(size_A[1])\n",
    "\n",
    "    new_A = np.pad(\n",
    "        A, [(0, new_height - size_A[0]), (0, new_width - size_A[1])], mode=\"constant\"\n",
    "    )\n",
    "\n",
    "    return new_A\n",
    "\n",
    "\n",
    "def split(array: np.ndarray, n: int) -> Tuple:\n",
    "    \"\"\"Split a matrix into sub-matrices\"\"\"\n",
    "    return (\n",
    "        array[:n, :n],\n",
    "        array[:n, n:],\n",
    "        array[n:, :n],\n",
    "        array[n:, n:],\n",
    "    )\n",
    "\n",
    "\n",
    "def find_next_power_of_2(number: int) -> int:\n",
    "    \"\"\"Finds closest number that is power of 2\"\"\"\n",
    "    return int(pow(2, ceil(log(number) / log(2))))"
   ]
  },
  {
   "cell_type": "markdown",
   "metadata": {},
   "source": [
    "#### Rekurencyjne odwracanie macierzy"
   ]
  },
  {
   "cell_type": "code",
   "execution_count": 30,
   "metadata": {},
   "outputs": [
    {
     "name": "stdout",
     "output_type": "stream",
     "text": [
      "[[ 0.45021678 -0.55801318  1.88691342 -0.72076973 -0.68208376]\n",
      " [-4.24033418 -1.61011382  1.97775614  0.55812027  3.98582818]\n",
      " [-0.27105761  0.6451497  -2.26840136 -0.32757359  2.55782594]\n",
      " [ 2.9447462   0.64428868 -1.1809448   1.10728012 -2.84373238]\n",
      " [-2.40986406  0.99443373 -0.22316482 -0.71108446  2.34737701]]\n",
      "Number of add operations: 22\n",
      "Number of sub operations: 0\n",
      "Number of div operations: 0\n",
      "Number of mul operations: 96\n",
      "Number of unit operations: 1662\n",
      "\n",
      "[[ 0.45021678 -0.55801318  1.88691342 -0.72076973 -0.68208376]\n",
      " [-4.24033418 -1.61011382  1.97775614  0.55812027  3.98582818]\n",
      " [-0.27105761  0.6451497  -2.26840136 -0.32757359  2.55782594]\n",
      " [ 2.9447462   0.64428868 -1.1809448   1.10728012 -2.84373238]\n",
      " [-2.40986406  0.99443373 -0.22316482 -0.71108446  2.34737701]]\n"
     ]
    }
   ],
   "source": [
    "A = generate_matrix(5, 5)\n",
    "\n",
    "\n",
    "def recursive_matrix_inverse(A: np.ndarray, counter: Counter) -> np.ndarray:\n",
    "    add = counter.add\n",
    "\n",
    "    mul = counter.mul\n",
    "    if A.size > 1:\n",
    "        split_at = A.shape[0] // 2\n",
    "        A11, A12, A21, A22 = split(A, split_at)\n",
    "\n",
    "        A11_inv = recursive_matrix_inverse(A11, counter)\n",
    "        S22 = add(A22, -mul(mul(A21, A11_inv), A12))\n",
    "        S22_inv = recursive_matrix_inverse(S22, counter)\n",
    "\n",
    "        B11 = mul(\n",
    "            A11_inv,\n",
    "            add(np.identity(A11.shape[0]), mul(mul(mul(A12, S22_inv), A21), A11_inv)),\n",
    "        )\n",
    "        B12 = -mul(mul(A11_inv, A12), S22_inv)\n",
    "        B21 = -mul(mul(S22_inv, A21), A11_inv)\n",
    "        B22 = S22_inv\n",
    "\n",
    "        return np.concatenate(\n",
    "            [np.concatenate([B11, B12], axis=1), np.concatenate([B21, B22], axis=1)],\n",
    "            axis=0,\n",
    "        )\n",
    "    else:\n",
    "        return np.full((1, 1), 1 / A[0][0])\n",
    "\n",
    "counter = Counter()\n",
    "print(recursive_matrix_inverse(A.copy(), counter))\n",
    "counter.print_counters()\n",
    "print()\n",
    "print(np.linalg.inv(A))"
   ]
  },
  {
   "cell_type": "markdown",
   "metadata": {},
   "source": [
    "#### Rekurencyjna LU faktoryzacja"
   ]
  },
  {
   "cell_type": "code",
   "execution_count": 31,
   "metadata": {},
   "outputs": [
    {
     "name": "stdout",
     "output_type": "stream",
     "text": [
      "Original matrix A:\n",
      "[[0.37454013 0.95071431 0.73199394 0.59865849 0.15601865]\n",
      " [0.15599453 0.05808362 0.86617615 0.60111502 0.70807258]\n",
      " [0.0205845  0.96990985 0.83244264 0.21233912 0.18182498]\n",
      " [0.18340452 0.30424225 0.52475644 0.43194502 0.29122915]\n",
      " [0.6118529  0.13949387 0.29214466 0.36636185 0.45606999]]\n",
      "\n",
      "L:\n",
      "[[  1.           0.           0.           0.           0.        ]\n",
      " [  0.41649617   1.           0.           0.           0.        ]\n",
      " [  0.05495941  -2.71588996   1.           0.           0.        ]\n",
      " [  0.48967922   0.47738928  -0.04387629   1.           0.        ]\n",
      " [  1.63361108   4.1836794   -1.40373424 -23.74302445   1.        ]]\n",
      "U:\n",
      "[[ 0.37454013  0.95071431  0.73199394  0.59865849  0.15601865]\n",
      " [ 0.         -0.33788525  0.56130347  0.35177605  0.64309141]\n",
      " [ 0.          0.          2.31665115  1.13482223  1.91981579]\n",
      " [ 0.          0.          0.          0.02065207 -0.0079405 ]\n",
      " [ 0.          0.          0.          0.          0.01708756]]\n",
      "\n",
      "L*U=\n",
      "[[0.37454013 0.95071431 0.73199394 0.59865849 0.15601865]\n",
      " [0.15599453 0.05808362 0.86617615 0.60111502 0.70807258]\n",
      " [0.0205845  0.96990985 0.83244264 0.21233912 0.18182498]\n",
      " [0.18340452 0.30424225 0.52475644 0.43194502 0.29122915]\n",
      " [0.6118529  0.13949387 0.29214466 0.36636185 0.45606999]]\n",
      "\n",
      "\n",
      "Number of add operations: 19\n",
      "Number of sub operations: 0\n",
      "Number of div operations: 0\n",
      "Number of mul operations: 67\n",
      "Number of unit operations: 730\n",
      "\n",
      "Scipy L*U=\n",
      "[[0.37454013 0.95071431 0.73199394 0.59865849 0.15601865]\n",
      " [0.15599453 0.05808362 0.86617615 0.60111502 0.70807258]\n",
      " [0.0205845  0.96990985 0.83244264 0.21233912 0.18182498]\n",
      " [0.18340452 0.30424225 0.52475644 0.43194502 0.29122915]\n",
      " [0.6118529  0.13949387 0.29214466 0.36636185 0.45606999]]\n"
     ]
    }
   ],
   "source": [
    "np.random.seed(42)\n",
    "A = generate_matrix(5, 5)\n",
    "\n",
    "\n",
    "def recursive_lu(A: np.ndarray, counter: Counter) -> Tuple[np.ndarray, np.ndarray]:\n",
    "    add = counter.add\n",
    "    mul = counter.mul\n",
    "    if A.size > 1:\n",
    "        split_at = A.shape[0] // 2\n",
    "        A11, A12, A21, A22 = split(A, split_at)\n",
    "\n",
    "        L11, U11 = recursive_lu(A11, counter)\n",
    "        U11_inv = recursive_matrix_inverse(U11, counter)\n",
    "\n",
    "        L21 = mul(A21, U11_inv)\n",
    "        L11_inv = recursive_matrix_inverse(L11, counter)\n",
    "\n",
    "        U12 = mul(L11_inv, A12)\n",
    "        L22 = add(A22, -mul(mul(mul(A21, U11_inv), L11_inv), A12))\n",
    "\n",
    "        Ls, Us = recursive_lu(L22, counter)\n",
    "        U22 = Us\n",
    "        L22 = Ls\n",
    "\n",
    "        return np.concatenate(\n",
    "            [\n",
    "                np.concatenate([L11, np.full((L21.shape[1], L21.shape[0]), 0)], axis=1),\n",
    "                np.concatenate([L21, L22], axis=1),\n",
    "            ],\n",
    "            axis=0,\n",
    "        ), np.concatenate(\n",
    "            [\n",
    "                np.concatenate([U11, U12], axis=1),\n",
    "                np.concatenate([np.full((U12.shape[1], U12.shape[0]), 0), U22], axis=1),\n",
    "            ],\n",
    "            axis=0,\n",
    "        )\n",
    "    else:\n",
    "        return np.full((1, 1), 1), np.full((1, 1), A[0, 0])\n",
    "\n",
    "\n",
    "counter = Counter()\n",
    "print(f\"Original matrix A:\\n{A}\\n\")\n",
    "L, U = recursive_lu(A, counter)\n",
    "print(f\"L:\\n{L}\\nU:\\n{U}\\n\\nL*U=\\n{L @ U}\\n\\n\")\n",
    "counter.print_counters()\n",
    "print()\n",
    "L, U = scipy.linalg.lu(A, permute_l=True)\n",
    "print(f\"Scipy L*U=\\n{L @ U}\")"
   ]
  },
  {
   "cell_type": "markdown",
   "metadata": {},
   "source": [
    "#### Rekurencyjny wyznacznik macierzy"
   ]
  },
  {
   "cell_type": "code",
   "execution_count": 40,
   "metadata": {},
   "outputs": [
    {
     "name": "stdout",
     "output_type": "stream",
     "text": [
      "-0.00010345989814894179\n",
      "Number of add operations: 19\n",
      "Number of sub operations: 0\n",
      "Number of div operations: 0\n",
      "Number of mul operations: 67\n",
      "Number of unit operations: 734\n",
      "\n",
      "-0.00010345989814894385\n"
     ]
    }
   ],
   "source": [
    "import functools\n",
    "np.random.seed(42)\n",
    "A = generate_matrix(5, 5)\n",
    "\n",
    "\n",
    "def recursive_determinant(A: np.ndarray, counter: Counter) -> float:\n",
    "    _, U = recursive_lu(A, counter)\n",
    "\n",
    "    U_diag = np.diagonal(U)\n",
    "\n",
    "    det = functools.reduce(lambda x, y: x * y, U_diag)\n",
    "    counter.inc_flops_mul(U_diag.size - 1) # wykonaliśmy N - 1 mnożeń floatów\n",
    "\n",
    "    return det\n",
    "\n",
    "counter = Counter()\n",
    "print(recursive_determinant(A, counter))\n",
    "counter.print_counters()\n",
    "print()\n",
    "print(np.linalg.det(A))"
   ]
  },
  {
   "cell_type": "markdown",
   "metadata": {},
   "source": [
    "#### Wykresy"
   ]
  },
  {
   "cell_type": "code",
   "execution_count": null,
   "metadata": {},
   "outputs": [],
   "source": [
    "import matplotlib.pyplot as plt\n",
    "from time import time\n",
    "from matplotlib.ticker import FormatStrFormatter\n",
    "\n",
    "\n",
    "times_binet: List[float] = []\n",
    "flops_binet: List[int] = []\n",
    "\n",
    "power_basis = list(range(2, 11))\n",
    "powers = [2**k for k in power_basis]\n",
    "\n",
    "for k in power_basis:\n",
    "    A = np.random.rand(2**k, 2**k)\n",
    "    B = np.random.rand(2**k, 2**k)\n",
    "\n",
    "    counter = Counter()\n",
    "    start_time: float = time()\n",
    "\n",
    "    binet_algorithm(A, B, counter)\n",
    "\n",
    "    total_time: float = time() - start_time\n",
    "\n",
    "    times_binet.append(total_time)\n",
    "    flops_binet.append(counter.operation_counter)"
   ]
  },
  {
   "cell_type": "code",
   "execution_count": null,
   "metadata": {},
   "outputs": [],
   "source": [
    "plt.gca().yaxis.set_major_formatter(FormatStrFormatter(\"%d s\"))\n",
    "plt.xlabel(\"Rozmiar macierzy\")\n",
    "plt.ylabel(\"Czas\")\n",
    "plt.plot(powers, times_binet)"
   ]
  },
  {
   "cell_type": "code",
   "execution_count": null,
   "metadata": {},
   "outputs": [],
   "source": [
    "plt.xlabel(\"Rozmiar macierzy\")\n",
    "plt.ylabel(\"Ilość flopsów\")\n",
    "plt.plot(powers, flops_binet)"
   ]
  },
  {
   "cell_type": "code",
   "execution_count": null,
   "metadata": {},
   "outputs": [],
   "source": [
    "times_strassen: List[float] = []\n",
    "flops_strassen: List[int] = []\n",
    "\n",
    "for k in power_basis:\n",
    "    A = np.random.rand(2**k, 2**k)\n",
    "    B = np.random.rand(2**k, 2**k)\n",
    "\n",
    "    counter = Counter()\n",
    "    start_time: float = time()\n",
    "\n",
    "    strassen_algorith(A, B, counter)\n",
    "\n",
    "    total_time: float = time() - start_time\n",
    "\n",
    "    times_strassen.append(total_time)\n",
    "    flops_strassen.append(counter.operation_counter)"
   ]
  },
  {
   "cell_type": "code",
   "execution_count": null,
   "metadata": {},
   "outputs": [],
   "source": [
    "plt.gca().yaxis.set_major_formatter(FormatStrFormatter(\"%d s\"))\n",
    "plt.xlabel(\"Rozmiar macierzy\")\n",
    "plt.ylabel(\"Czas\")\n",
    "plt.plot(powers, times_strassen)"
   ]
  },
  {
   "cell_type": "code",
   "execution_count": null,
   "metadata": {},
   "outputs": [],
   "source": [
    "plt.xlabel(\"Rozmiar macierzy\")\n",
    "plt.ylabel(\"Ilość flopsów\")\n",
    "plt.plot(powers, flops_strassen)"
   ]
  },
  {
   "cell_type": "code",
   "execution_count": null,
   "metadata": {},
   "outputs": [],
   "source": [
    "times_winograd: List[float] = []\n",
    "flops_winograd: List[int] = []\n",
    "\n",
    "for k in power_basis:\n",
    "    A = np.random.rand(2**k, 2**k)\n",
    "    B = np.random.rand(2**k, 2**k)\n",
    "\n",
    "    counter = Counter()\n",
    "    start_time: float = time()\n",
    "\n",
    "    winograd_algorithm(A, B, counter)\n",
    "\n",
    "    total_time: float = time() - start_time\n",
    "\n",
    "    times_winograd.append(total_time)\n",
    "    flops_winograd.append(counter.operation_counter)"
   ]
  },
  {
   "cell_type": "code",
   "execution_count": null,
   "metadata": {},
   "outputs": [],
   "source": [
    "plt.gca().yaxis.set_major_formatter(FormatStrFormatter(\"%d s\"))\n",
    "plt.xlabel(\"Rozmiar macierzy\")\n",
    "plt.ylabel(\"Czas\")\n",
    "plt.plot(powers, times_winograd)"
   ]
  },
  {
   "cell_type": "code",
   "execution_count": null,
   "metadata": {},
   "outputs": [],
   "source": [
    "plt.xlabel(\"Rozmiar macierzy\")\n",
    "plt.ylabel(\"Ilość flopsów\")\n",
    "plt.plot(powers, flops_winograd)"
   ]
  },
  {
   "cell_type": "code",
   "execution_count": null,
   "metadata": {},
   "outputs": [],
   "source": [
    "A = np.array([[1, 3, 5], [2, 4, 6], [3, 5, 7]])\n",
    "B = np.array([[1, 2, 3], [4, 5, 6], [7, 8, 9]])\n",
    "\n",
    "print(winograd_algorithm(A, B, Counter()))"
   ]
  },
  {
   "cell_type": "code",
   "execution_count": null,
   "metadata": {},
   "outputs": [],
   "source": []
  },
  {
   "cell_type": "code",
   "execution_count": null,
   "metadata": {},
   "outputs": [],
   "source": []
  }
 ],
 "metadata": {
  "kernelspec": {
   "display_name": "Python 3.8.10 64-bit",
   "language": "python",
   "name": "python3"
  },
  "language_info": {
   "codemirror_mode": {
    "name": "ipython",
    "version": 3
   },
   "file_extension": ".py",
   "mimetype": "text/x-python",
   "name": "python",
   "nbconvert_exporter": "python",
   "pygments_lexer": "ipython3",
   "version": "3.8.10"
  },
  "orig_nbformat": 4,
  "vscode": {
   "interpreter": {
    "hash": "31f2aee4e71d21fbe5cf8b01ff0e069b9275f58929596ceb00d14d90e3e16cd6"
   }
  }
 },
 "nbformat": 4,
 "nbformat_minor": 2
}
