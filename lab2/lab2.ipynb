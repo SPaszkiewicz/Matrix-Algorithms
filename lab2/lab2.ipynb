{
 "cells": [
  {
   "cell_type": "markdown",
   "metadata": {},
   "source": [
    "### Algorytmy Macierzowe lab 2"
   ]
  },
  {
   "cell_type": "markdown",
   "metadata": {},
   "source": [
    "#### Konfiguracja"
   ]
  },
  {
   "cell_type": "code",
   "execution_count": 88,
   "metadata": {},
   "outputs": [],
   "source": [
    "import numpy as np\n",
    "import scipy.linalg\n",
    "from math import log, ceil, pow\n",
    "from typing import Tuple, List"
   ]
  },
  {
   "cell_type": "markdown",
   "metadata": {},
   "source": [
    "#### Generowanie macierzy"
   ]
  },
  {
   "cell_type": "code",
   "execution_count": 89,
   "metadata": {},
   "outputs": [],
   "source": [
    "def generate_matrix(ncols: int, nrows: int):\n",
    "    return np.random.uniform(low=0.00000001, high=1.0, size=(nrows, ncols))"
   ]
  },
  {
   "cell_type": "markdown",
   "metadata": {},
   "source": [
    "#### Licznik operacji"
   ]
  },
  {
   "cell_type": "code",
   "execution_count": 90,
   "metadata": {},
   "outputs": [],
   "source": [
    "class Counter:\n",
    "    def __init__(self) -> None:\n",
    "        self.add_counter = 0\n",
    "        self.mul_counter = 0\n",
    "        self.div_counter = 0\n",
    "        self.sub_counter = 0\n",
    "        self.operation_counter = 0\n",
    "\n",
    "    def add(self, A: np.ndarray, B: np.ndarray) -> np.ndarray:\n",
    "        self.add_counter += A.size\n",
    "        self.operation_counter += A.size\n",
    "        return A + B\n",
    "\n",
    "    def mul(self, A: np.ndarray, B: np.ndarray) -> np.ndarray:\n",
    "        self.mul_counter += 1\n",
    "        self.operation_counter += int(\n",
    "            (A.shape[0]) ** 2.807\n",
    "        )  # we assume Strassen algorithm for multiplication\n",
    "        return A @ B\n",
    "\n",
    "    def inc_flops_mul(self, count: int):\n",
    "        self.operation_counter += count\n",
    "\n",
    "    def print_counters(self) -> None:\n",
    "        print(f\"Number of add operations: {self.add_counter}\")\n",
    "        print(f\"Number of sub operations: {self.sub_counter}\")\n",
    "        print(f\"Number of div operations: {self.div_counter}\")\n",
    "        print(f\"Number of mul operations: {self.mul_counter}\")\n",
    "        print(f\"Number of unit operations: {self.operation_counter}\")"
   ]
  },
  {
   "cell_type": "markdown",
   "metadata": {},
   "source": [
    "#### Funckje pomocniczne"
   ]
  },
  {
   "cell_type": "code",
   "execution_count": 91,
   "metadata": {},
   "outputs": [],
   "source": [
    "def resize_matrix_to_2n(A: np.ndarray):\n",
    "    \"\"\"Change size of matrix to simplify processing\"\"\"\n",
    "    size_A = A.shape\n",
    "    new_height: int = 0\n",
    "    new_width: int = 0\n",
    "\n",
    "    new_height = find_next_power_of_2(size_A[0])\n",
    "\n",
    "    new_width = find_next_power_of_2(size_A[1])\n",
    "\n",
    "    new_A = np.pad(\n",
    "        A, [(0, new_height - size_A[0]), (0, new_width - size_A[1])], mode=\"constant\"\n",
    "    )\n",
    "\n",
    "    return new_A\n",
    "\n",
    "\n",
    "def split(array: np.ndarray, n: int) -> Tuple:\n",
    "    \"\"\"Split a matrix into sub-matrices\"\"\"\n",
    "    return (\n",
    "        array[:n, :n],\n",
    "        array[:n, n:],\n",
    "        array[n:, :n],\n",
    "        array[n:, n:],\n",
    "    )\n",
    "\n",
    "\n",
    "def find_next_power_of_2(number: int) -> int:\n",
    "    \"\"\"Finds closest number that is power of 2\"\"\"\n",
    "    return int(pow(2, ceil(log(number) / log(2))))"
   ]
  },
  {
   "cell_type": "markdown",
   "metadata": {},
   "source": [
    "#### Rekurencyjne odwracanie macierzy"
   ]
  },
  {
   "cell_type": "code",
   "execution_count": 92,
   "metadata": {},
   "outputs": [
    {
     "name": "stdout",
     "output_type": "stream",
     "text": [
      "[[-12.99878694  -5.14057476  -4.49655008  10.08531568  13.27167065]\n",
      " [ -5.06040816  -3.50436526  -5.33350109   8.02920954   7.20328607]\n",
      " [  0.68628311  -0.17230468   1.92317126  -0.74931728  -1.80573913]\n",
      " [  4.21621105   0.27402602   2.28193652  -3.42677638  -3.4255974 ]\n",
      " [  7.30884488   4.853924     3.1531866   -7.29560354  -7.81845845]]\n",
      "Number of add operations: 22\n",
      "Number of sub operations: 0\n",
      "Number of div operations: 0\n",
      "Number of mul operations: 40\n",
      "Number of unit operations: 192\n",
      "\n",
      "[[-12.99878694  -5.14057476  -4.49655008  10.08531568  13.27167065]\n",
      " [ -5.06040816  -3.50436526  -5.33350109   8.02920954   7.20328607]\n",
      " [  0.68628311  -0.17230468   1.92317126  -0.74931728  -1.80573913]\n",
      " [  4.21621105   0.27402602   2.28193652  -3.42677638  -3.4255974 ]\n",
      " [  7.30884488   4.853924     3.1531866   -7.29560354  -7.81845845]]\n"
     ]
    }
   ],
   "source": [
    "A = generate_matrix(5, 5)\n",
    "\n",
    "\n",
    "def recursive_matrix_inverse(A: np.ndarray, counter: Counter) -> np.ndarray:\n",
    "    add = counter.add\n",
    "\n",
    "    mul = counter.mul\n",
    "    if A.size > 1:\n",
    "        split_at = A.shape[0] // 2\n",
    "        A11, A12, A21, A22 = split(A, split_at)\n",
    "\n",
    "        A11_inv = recursive_matrix_inverse(A11, counter)\n",
    "        S22 = add(A22, -mul(mul(A21, A11_inv), A12))\n",
    "        S22_inv = recursive_matrix_inverse(S22, counter)\n",
    "\n",
    "        B11 = mul(\n",
    "            A11_inv,\n",
    "            add(np.identity(A11.shape[0]), mul(mul(mul(A12, S22_inv), A21), A11_inv)),\n",
    "        )\n",
    "        B12 = -mul(mul(A11_inv, A12), S22_inv)\n",
    "        B21 = -mul(mul(S22_inv, A21), A11_inv)\n",
    "        B22 = S22_inv\n",
    "\n",
    "        return np.concatenate(\n",
    "            [np.concatenate([B11, B12], axis=1), np.concatenate([B21, B22], axis=1)],\n",
    "            axis=0,\n",
    "        )\n",
    "    else:\n",
    "        return np.full((1, 1), 1 / A[0][0])\n",
    "\n",
    "counter = Counter()\n",
    "print(recursive_matrix_inverse(A.copy(), counter))\n",
    "counter.print_counters()\n",
    "print()\n",
    "print(np.linalg.inv(A))"
   ]
  },
  {
   "cell_type": "code",
   "execution_count": 93,
   "metadata": {},
   "outputs": [],
   "source": [
    "def recursive_matrix_inverse(A: np.ndarray, counter: Counter) -> np.ndarray:\n",
    "    add = counter.add\n",
    "\n",
    "    mul = counter.mul\n",
    "    if A.size > 1:\n",
    "        split_at = A.shape[0] // 2\n",
    "        A11, A12, A21, A22 = split(A, split_at)\n",
    "\n",
    "        A11_inv = recursive_matrix_inverse(A11, counter)\n",
    "        S22 = add(A22, -mul(mul(A21, A11_inv), A12))\n",
    "        S22_inv = recursive_matrix_inverse(S22, counter)\n",
    "\n",
    "        B11 = mul(\n",
    "            A11_inv,\n",
    "            add(np.identity(A11.shape[0]), mul(mul(mul(A12, S22_inv), A21), A11_inv)),\n",
    "        )\n",
    "        B12 = -mul(mul(A11_inv, A12), S22_inv)\n",
    "        B21 = -mul(mul(S22_inv, A21), A11_inv)\n",
    "        B22 = S22_inv\n",
    "\n",
    "        return np.concatenate(\n",
    "            [np.concatenate([B11, B12], axis=1), np.concatenate([B21, B22], axis=1)],\n",
    "            axis=0,\n",
    "        )\n",
    "    else:\n",
    "        return np.full((1, 1), 1 / A[0][0])"
   ]
  },
  {
   "cell_type": "markdown",
   "metadata": {},
   "source": [
    "#### Rekurencyjna LU faktoryzacja"
   ]
  },
  {
   "cell_type": "code",
   "execution_count": 94,
   "metadata": {},
   "outputs": [
    {
     "name": "stdout",
     "output_type": "stream",
     "text": [
      "Original matrix A:\n",
      "[[0.37454013 0.95071431 0.73199394 0.59865849 0.15601865]\n",
      " [0.15599453 0.05808362 0.86617615 0.60111502 0.70807258]\n",
      " [0.0205845  0.96990985 0.83244264 0.21233912 0.18182498]\n",
      " [0.18340452 0.30424225 0.52475644 0.43194502 0.29122915]\n",
      " [0.6118529  0.13949387 0.29214466 0.36636185 0.45606999]]\n",
      "\n",
      "L:\n",
      "[[  1.           0.           0.           0.           0.        ]\n",
      " [  0.41649617   1.           0.           0.           0.        ]\n",
      " [  0.05495941  -2.71588996   1.           0.           0.        ]\n",
      " [  0.48967922   0.47738928  -0.04387629   1.           0.        ]\n",
      " [  1.63361108   4.1836794   -1.40373424 -23.74302445   1.        ]]\n",
      "U:\n",
      "[[ 0.37454013  0.95071431  0.73199394  0.59865849  0.15601865]\n",
      " [ 0.         -0.33788525  0.56130347  0.35177605  0.64309141]\n",
      " [ 0.          0.          2.31665115  1.13482223  1.91981579]\n",
      " [ 0.          0.          0.          0.02065207 -0.0079405 ]\n",
      " [ 0.          0.          0.          0.          0.01708756]]\n",
      "\n",
      "L*U=\n",
      "[[0.37454013 0.95071431 0.73199394 0.59865849 0.15601865]\n",
      " [0.15599453 0.05808362 0.86617615 0.60111502 0.70807258]\n",
      " [0.0205845  0.96990985 0.83244264 0.21233912 0.18182498]\n",
      " [0.18340452 0.30424225 0.52475644 0.43194502 0.29122915]\n",
      " [0.6118529  0.13949387 0.29214466 0.36636185 0.45606999]]\n",
      "\n",
      "\n",
      "Number of add operations: 19\n",
      "Number of sub operations: 0\n",
      "Number of div operations: 0\n",
      "Number of mul operations: 40\n",
      "Number of unit operations: 164\n",
      "\n",
      "Scipy L*U=\n",
      "[[0.37454013 0.95071431 0.73199394 0.59865849 0.15601865]\n",
      " [0.15599453 0.05808362 0.86617615 0.60111502 0.70807258]\n",
      " [0.0205845  0.96990985 0.83244264 0.21233912 0.18182498]\n",
      " [0.18340452 0.30424225 0.52475644 0.43194502 0.29122915]\n",
      " [0.6118529  0.13949387 0.29214466 0.36636185 0.45606999]]\n"
     ]
    }
   ],
   "source": [
    "np.random.seed(42)\n",
    "A = generate_matrix(5, 5)\n",
    "\n",
    "\n",
    "def recursive_lu(A: np.ndarray, counter: Counter) -> Tuple[np.ndarray, np.ndarray]:\n",
    "    add = counter.add\n",
    "    mul = counter.mul\n",
    "    if A.size > 1:\n",
    "        split_at = A.shape[0] // 2\n",
    "        A11, A12, A21, A22 = split(A, split_at)\n",
    "\n",
    "        L11, U11 = recursive_lu(A11, counter)\n",
    "        U11_inv = recursive_matrix_inverse(U11, counter)\n",
    "\n",
    "        L21 = mul(A21, U11_inv)\n",
    "        L11_inv = recursive_matrix_inverse(L11, counter)\n",
    "\n",
    "        U12 = mul(L11_inv, A12)\n",
    "        L22 = add(A22, -mul(mul(mul(A21, U11_inv), L11_inv), A12))\n",
    "\n",
    "        Ls, Us = recursive_lu(L22, counter)\n",
    "        U22 = Us\n",
    "        L22 = Ls\n",
    "\n",
    "        return np.concatenate(\n",
    "            [\n",
    "                np.concatenate([L11, np.full((L21.shape[1], L21.shape[0]), 0)], axis=1),\n",
    "                np.concatenate([L21, L22], axis=1),\n",
    "            ],\n",
    "            axis=0,\n",
    "        ), np.concatenate(\n",
    "            [\n",
    "                np.concatenate([U11, U12], axis=1),\n",
    "                np.concatenate([np.full((U12.shape[1], U12.shape[0]), 0), U22], axis=1),\n",
    "            ],\n",
    "            axis=0,\n",
    "        )\n",
    "    else:\n",
    "        return np.full((1, 1), 1), np.full((1, 1), A[0, 0])\n",
    "\n",
    "\n",
    "counter = Counter()\n",
    "print(f\"Original matrix A:\\n{A}\\n\")\n",
    "L, U = recursive_lu(A, counter)\n",
    "print(f\"L:\\n{L}\\nU:\\n{U}\\n\\nL*U=\\n{L @ U}\\n\\n\")\n",
    "counter.print_counters()\n",
    "print()\n",
    "L, U = scipy.linalg.lu(A, permute_l=True)\n",
    "print(f\"Scipy L*U=\\n{L @ U}\")"
   ]
  },
  {
   "cell_type": "markdown",
   "metadata": {},
   "source": [
    "#### Rekurencyjny wyznacznik macierzy"
   ]
  },
  {
   "cell_type": "code",
   "execution_count": 95,
   "metadata": {},
   "outputs": [
    {
     "name": "stdout",
     "output_type": "stream",
     "text": [
      "-0.00010345989814896572\n",
      "Number of add operations: 19\n",
      "Number of sub operations: 0\n",
      "Number of div operations: 0\n",
      "Number of mul operations: 40\n",
      "Number of unit operations: 168\n",
      "\n",
      "-0.00010345989814893705\n"
     ]
    }
   ],
   "source": [
    "import functools\n",
    "np.random.seed(42)\n",
    "A = generate_matrix(5, 5)\n",
    "\n",
    "\n",
    "def recursive_determinant(A: np.ndarray, counter: Counter) -> float:\n",
    "    _, U = recursive_lu(A, counter)\n",
    "\n",
    "    U_diag = np.diagonal(U)\n",
    "\n",
    "    det = functools.reduce(lambda x, y: x * y, U_diag)\n",
    "    counter.inc_flops_mul(U_diag.size - 1) # wykonaliśmy N - 1 mnożeń floatów\n",
    "\n",
    "    return det\n",
    "\n",
    "counter = Counter()\n",
    "print(recursive_determinant(A, counter))\n",
    "counter.print_counters()\n",
    "print()\n",
    "print(np.linalg.det(A))"
   ]
  },
  {
   "cell_type": "code",
   "execution_count": 106,
   "metadata": {},
   "outputs": [
    {
     "name": "stdout",
     "output_type": "stream",
     "text": [
      "[2, 4, 8, 16, 32, 64, 128, 256, 512, 1024, 2048, 4096, 8192]\n"
     ]
    }
   ],
   "source": [
    "import matplotlib.pyplot as plt\n",
    "from time import time\n",
    "from matplotlib.ticker import FormatStrFormatter\n",
    "\n",
    "\n",
    "times: List[float] = []\n",
    "flops: List[int] = []\n",
    "\n",
    "power_basis = list(range(1, 14))\n",
    "powers = [2**k for k in power_basis]\n",
    "print(powers)"
   ]
  },
  {
   "cell_type": "markdown",
   "metadata": {},
   "source": [
    "#### Wykresy"
   ]
  },
  {
   "cell_type": "code",
   "execution_count": 99,
   "metadata": {},
   "outputs": [],
   "source": [
    "times_inverse: List[float] = []\n",
    "flops_inverse: List[int] = []\n",
    "\n",
    "for k in power_basis:\n",
    "    A = generate_matrix(2**k, 2**k)\n",
    "\n",
    "    counter = Counter()\n",
    "    start_time: float = time()\n",
    "\n",
    "    recursive_matrix_inverse(A, counter)\n",
    "\n",
    "    total_time: float = time() - start_time\n",
    "\n",
    "    times_inverse.append(total_time)\n",
    "    flops_inverse.append(counter.operation_counter)"
   ]
  },
  {
   "cell_type": "code",
   "execution_count": null,
   "metadata": {},
   "outputs": [
    {
     "data": {
      "text/plain": [
       "[<matplotlib.lines.Line2D at 0x1dd82394ac0>]"
      ]
     },
     "execution_count": 65,
     "metadata": {},
     "output_type": "execute_result"
    },
    {
     "data": {
      "image/png": "[encoded data removed]",
      "text/plain": [
       "<Figure size 432x288 with 1 Axes>"
      ]
     },
     "metadata": {
      "needs_background": "light"
     },
     "output_type": "display_data"
    }
   ],
   "source": [
    "plt.gca().yaxis.set_major_formatter(FormatStrFormatter(\"%d s\"))\n",
    "plt.xlabel(\"Rozmiar macierzy\")\n",
    "plt.ylabel(\"Czas\")\n",
    "plt.plot(powers, times_inverse)"
   ]
  },
  {
   "cell_type": "code",
   "execution_count": null,
   "metadata": {},
   "outputs": [
    {
     "data": {
      "text/plain": [
       "[<matplotlib.lines.Line2D at 0x1dd823ff250>]"
      ]
     },
     "execution_count": 66,
     "metadata": {},
     "output_type": "execute_result"
    },
    {
     "data": {
      "image/png": "[encoded data removed]",
      "text/plain": [
       "<Figure size 432x288 with 1 Axes>"
      ]
     },
     "metadata": {
      "needs_background": "light"
     },
     "output_type": "display_data"
    }
   ],
   "source": [
    "plt.xlabel(\"Rozmiar macierzy\")\n",
    "plt.ylabel(\"Ilość flopsów\")\n",
    "plt.plot(powers, flops_inverse)"
   ]
  },
  {
   "cell_type": "code",
   "execution_count": 105,
   "metadata": {},
   "outputs": [],
   "source": [
    "times_lu: List[float] = []\n",
    "flops_lu: List[int] = []\n",
    "\n",
    "for k in power_basis:\n",
    "    A = generate_matrix(2**k, 2**k)\n",
    "\n",
    "    counter = Counter()\n",
    "    start_time: float = time()\n",
    "\n",
    "    recursive_lu(A, counter)\n",
    "\n",
    "    total_time: float = time() - start_time\n",
    "\n",
    "    times_lu.append(total_time)\n",
    "    flops_lu.append(counter.operation_counter)"
   ]
  },
  {
   "cell_type": "code",
   "execution_count": 101,
   "metadata": {},
   "outputs": [
    {
     "data": {
      "text/plain": [
       "[<matplotlib.lines.Line2D at 0x1dd836b3a30>]"
      ]
     },
     "execution_count": 101,
     "metadata": {},
     "output_type": "execute_result"
    },
    {
     "data": {
      "image/png": "[encoded data removed]",
      "text/plain": [
       "<Figure size 432x288 with 1 Axes>"
      ]
     },
     "metadata": {
      "needs_background": "light"
     },
     "output_type": "display_data"
    }
   ],
   "source": [
    "plt.gca().yaxis.set_major_formatter(FormatStrFormatter(\"%d s\"))\n",
    "plt.xlabel(\"Rozmiar macierzy\")\n",
    "plt.ylabel(\"Czas\")\n",
    "plt.plot(powers, times_lu)"
   ]
  },
  {
   "cell_type": "code",
   "execution_count": 102,
   "metadata": {},
   "outputs": [
    {
     "data": {
      "text/plain": [
       "[<matplotlib.lines.Line2D at 0x1dd836ec910>]"
      ]
     },
     "execution_count": 102,
     "metadata": {},
     "output_type": "execute_result"
    },
    {
     "data": {
      "image/png": "[encoded data removed]",
      "text/plain": [
       "<Figure size 432x288 with 1 Axes>"
      ]
     },
     "metadata": {
      "needs_background": "light"
     },
     "output_type": "display_data"
    }
   ],
   "source": [
    "plt.xlabel(\"Rozmiar macierzy\")\n",
    "plt.ylabel(\"Ilość flopsów\")\n",
    "plt.plot(powers, flops_lu)"
   ]
  },
  {
   "cell_type": "code",
   "execution_count": 107,
   "metadata": {},
   "outputs": [
    {
     "name": "stderr",
     "output_type": "stream",
     "text": [
      "C:\\Users\\fabia\\AppData\\Local\\Temp\\ipykernel_7652\\1128701643.py:11: RuntimeWarning: overflow encountered in double_scalars\n",
      "  det = functools.reduce(lambda x, y: x * y, U_diag)\n"
     ]
    }
   ],
   "source": [
    "times_determinant: List[float] = []\n",
    "flops_determinant: List[int] = []\n",
    "\n",
    "for k in power_basis:\n",
    "    A = generate_matrix(2**k, 2**k)\n",
    "\n",
    "    counter = Counter()\n",
    "    start_time: float = time()\n",
    "\n",
    "    recursive_determinant(A, counter)\n",
    "\n",
    "    total_time: float = time() - start_time\n",
    "\n",
    "    times_determinant.append(total_time)\n",
    "    flops_determinant.append(counter.operation_counter)"
   ]
  },
  {
   "cell_type": "code",
   "execution_count": 125,
   "metadata": {},
   "outputs": [
    {
     "data": {
      "text/plain": [
       "[<matplotlib.lines.Line2D at 0x1dd837bc820>]"
      ]
     },
     "execution_count": 125,
     "metadata": {},
     "output_type": "execute_result"
    },
    {
     "data": {
      "image/png": "[encoded data removed]",
      "text/plain": [
       "<Figure size 432x288 with 1 Axes>"
      ]
     },
     "metadata": {
      "needs_background": "light"
     },
     "output_type": "display_data"
    }
   ],
   "source": [
    "plt.gca().yaxis.set_major_formatter(FormatStrFormatter(\"%d s\"))\n",
    "plt.xlabel(\"Rozmiar macierzy\")\n",
    "plt.ylabel(\"Czas\")\n",
    "plt.plot(powers, times_determinant)"
   ]
  },
  {
   "cell_type": "code",
   "execution_count": 126,
   "metadata": {},
   "outputs": [
    {
     "data": {
      "text/plain": [
       "[<matplotlib.lines.Line2D at 0x1dd83797ca0>]"
      ]
     },
     "execution_count": 126,
     "metadata": {},
     "output_type": "execute_result"
    },
    {
     "data": {
      "image/png": "[encoded data removed]",
      "text/plain": [
       "<Figure size 432x288 with 1 Axes>"
      ]
     },
     "metadata": {
      "needs_background": "light"
     },
     "output_type": "display_data"
    }
   ],
   "source": [
    "plt.xlabel(\"Rozmiar macierzy\")\n",
    "plt.ylabel(\"Ilość flopsów\")\n",
    "plt.plot(powers, flops_determinant)"
   ]
  },
  {
   "cell_type": "markdown",
   "metadata": {},
   "source": []
  },
  {
   "cell_type": "code",
   "execution_count": 108,
   "metadata": {},
   "outputs": [],
   "source": [
    "def generate_matrix(ncols: int, nrows: int):\n",
    "    return np.random.randint(low=1, high=9, size=(nrows, ncols))\n",
    "\n",
    "A = generate_matrix(5, 5)\n",
    "counter = Counter()"
   ]
  },
  {
   "cell_type": "code",
   "execution_count": 128,
   "metadata": {},
   "outputs": [],
   "source": [
    "import scipy"
   ]
  },
  {
   "cell_type": "code",
   "execution_count": 136,
   "metadata": {},
   "outputs": [
    {
     "data": {
      "text/plain": [
       "array([[1.        , 0.        , 0.        ],\n",
       "       [2.        , 1.        , 0.        ],\n",
       "       [3.        , 1.58333333, 1.        ]])"
      ]
     },
     "execution_count": 136,
     "metadata": {},
     "output_type": "execute_result"
    }
   ],
   "source": [
    "A = np.array([[1, 8, 5], [2, 4, 6], [3, 5, 7]])\n",
    "L, U = recursive_lu(A, counter)\n",
    "L"
   ]
  },
  {
   "cell_type": "code",
   "execution_count": 137,
   "metadata": {},
   "outputs": [
    {
     "data": {
      "text/plain": [
       "array([[  1.        ,   8.        ,   5.        ],\n",
       "       [  0.        , -12.        ,  -4.        ],\n",
       "       [  0.        ,   0.        ,  -1.66666667]])"
      ]
     },
     "execution_count": 137,
     "metadata": {},
     "output_type": "execute_result"
    }
   ],
   "source": [
    "U"
   ]
  },
  {
   "cell_type": "code",
   "execution_count": 139,
   "metadata": {},
   "outputs": [
    {
     "name": "stderr",
     "output_type": "stream",
     "text": [
      "Traceback (most recent call last):\n",
      "  File \"_pydevd_bundle/pydevd_cython.pyx\", line 1078, in _pydevd_bundle.pydevd_cython.PyDBFrame.trace_dispatch\n",
      "  File \"_pydevd_bundle/pydevd_cython.pyx\", line 297, in _pydevd_bundle.pydevd_cython.PyDBFrame.do_wait_suspend\n",
      "  File \"c:\\Users\\fabia\\anaconda3\\envs\\PSI\\lib\\site-packages\\debugpy\\_vendored\\pydevd\\pydevd.py\", line 1976, in do_wait_suspend\n",
      "    keep_suspended = self._do_wait_suspend(thread, frame, event, arg, suspend_type, from_this_thread, frames_tracker)\n",
      "  File \"c:\\Users\\fabia\\anaconda3\\envs\\PSI\\lib\\site-packages\\debugpy\\_vendored\\pydevd\\pydevd.py\", line 2011, in _do_wait_suspend\n",
      "    time.sleep(0.01)\n",
      "KeyboardInterrupt\n"
     ]
    },
    {
     "ename": "KeyboardInterrupt",
     "evalue": "",
     "output_type": "error",
     "traceback": [
      "\u001b[1;31m---------------------------------------------------------------------------\u001b[0m",
      "\u001b[1;31mKeyboardInterrupt\u001b[0m                         Traceback (most recent call last)",
      "\u001b[1;32mc:\\Users\\fabia\\Matrix-Algorithms\\lab2\\lab2.ipynb Cell 33\u001b[0m in \u001b[0;36m<cell line: 1>\u001b[1;34m()\u001b[0m\n\u001b[1;32m----> <a href='vscode-notebook-cell:/c%3A/Users/fabia/Matrix-Algorithms/lab2/lab2.ipynb#X46sZmlsZQ%3D%3D?line=0'>1</a>\u001b[0m A \u001b[39m=\u001b[39m np\u001b[39m.\u001b[39marray([[\u001b[39m1\u001b[39m, \u001b[39m8\u001b[39m, \u001b[39m5\u001b[39m], [\u001b[39m2\u001b[39m, \u001b[39m4\u001b[39m, \u001b[39m6\u001b[39m], [\u001b[39m3\u001b[39m, \u001b[39m5\u001b[39m, \u001b[39m7\u001b[39m]])\n\u001b[0;32m      <a href='vscode-notebook-cell:/c%3A/Users/fabia/Matrix-Algorithms/lab2/lab2.ipynb#X46sZmlsZQ%3D%3D?line=1'>2</a>\u001b[0m A \u001b[39m=\u001b[39m scipy\u001b[39m.\u001b[39mlinalg\u001b[39m.\u001b[39mlu(A, permute_l\u001b[39m=\u001b[39mtrue)\n\u001b[0;32m      <a href='vscode-notebook-cell:/c%3A/Users/fabia/Matrix-Algorithms/lab2/lab2.ipynb#X46sZmlsZQ%3D%3D?line=2'>3</a>\u001b[0m A\n",
      "File \u001b[1;32m_pydevd_bundle/pydevd_cython.pyx:1363\u001b[0m, in \u001b[0;36m_pydevd_bundle.pydevd_cython.SafeCallWrapper.__call__\u001b[1;34m()\u001b[0m\n",
      "File \u001b[1;32m_pydevd_bundle/pydevd_cython.pyx:1740\u001b[0m, in \u001b[0;36m_pydevd_bundle.pydevd_cython.ThreadTracer.__call__\u001b[1;34m()\u001b[0m\n",
      "File \u001b[1;32m_pydevd_bundle/pydevd_cython.pyx:1087\u001b[0m, in \u001b[0;36m_pydevd_bundle.pydevd_cython.PyDBFrame.trace_dispatch\u001b[1;34m()\u001b[0m\n",
      "File \u001b[1;32m_pydevd_bundle/pydevd_cython.pyx:1078\u001b[0m, in \u001b[0;36m_pydevd_bundle.pydevd_cython.PyDBFrame.trace_dispatch\u001b[1;34m()\u001b[0m\n",
      "File \u001b[1;32m_pydevd_bundle/pydevd_cython.pyx:297\u001b[0m, in \u001b[0;36m_pydevd_bundle.pydevd_cython.PyDBFrame.do_wait_suspend\u001b[1;34m()\u001b[0m\n",
      "File \u001b[1;32mc:\\Users\\fabia\\anaconda3\\envs\\PSI\\lib\\site-packages\\debugpy\\_vendored\\pydevd\\pydevd.py:1976\u001b[0m, in \u001b[0;36mPyDB.do_wait_suspend\u001b[1;34m(self, thread, frame, event, arg, exception_type)\u001b[0m\n\u001b[0;32m   1973\u001b[0m             from_this_thread\u001b[39m.\u001b[39mappend(frame_custom_thread_id)\n\u001b[0;32m   1975\u001b[0m     \u001b[39mwith\u001b[39;00m \u001b[39mself\u001b[39m\u001b[39m.\u001b[39m_threads_suspended_single_notification\u001b[39m.\u001b[39mnotify_thread_suspended(thread_id, stop_reason):\n\u001b[1;32m-> 1976\u001b[0m         keep_suspended \u001b[39m=\u001b[39m \u001b[39mself\u001b[39;49m\u001b[39m.\u001b[39;49m_do_wait_suspend(thread, frame, event, arg, suspend_type, from_this_thread, frames_tracker)\n\u001b[0;32m   1978\u001b[0m frames_list \u001b[39m=\u001b[39m \u001b[39mNone\u001b[39;00m\n\u001b[0;32m   1980\u001b[0m \u001b[39mif\u001b[39;00m keep_suspended:\n\u001b[0;32m   1981\u001b[0m     \u001b[39m# This means that we should pause again after a set next statement.\u001b[39;00m\n",
      "File \u001b[1;32mc:\\Users\\fabia\\anaconda3\\envs\\PSI\\lib\\site-packages\\debugpy\\_vendored\\pydevd\\pydevd.py:2011\u001b[0m, in \u001b[0;36mPyDB._do_wait_suspend\u001b[1;34m(self, thread, frame, event, arg, suspend_type, from_this_thread, frames_tracker)\u001b[0m\n\u001b[0;32m   2008\u001b[0m         \u001b[39mself\u001b[39m\u001b[39m.\u001b[39m_call_mpl_hook()\n\u001b[0;32m   2010\u001b[0m     \u001b[39mself\u001b[39m\u001b[39m.\u001b[39mprocess_internal_commands()\n\u001b[1;32m-> 2011\u001b[0m     time\u001b[39m.\u001b[39;49msleep(\u001b[39m0.01\u001b[39;49m)\n\u001b[0;32m   2013\u001b[0m \u001b[39mself\u001b[39m\u001b[39m.\u001b[39mcancel_async_evaluation(get_current_thread_id(thread), \u001b[39mstr\u001b[39m(\u001b[39mid\u001b[39m(frame)))\n\u001b[0;32m   2015\u001b[0m \u001b[39m# process any stepping instructions\u001b[39;00m\n",
      "\u001b[1;31mKeyboardInterrupt\u001b[0m: "
     ]
    }
   ],
   "source": [
    "A = np.array([[1, 8, 5], [2, 4, 6], [3, 5, 7]])\n",
    "A = scipy.linalg.lu(A, permute_l=true)\n",
    "A"
   ]
  }
 ],
 "metadata": {
  "kernelspec": {
   "display_name": "Python 3.9.13 ('PSI')",
   "language": "python",
   "name": "python3"
  },
  "language_info": {
   "codemirror_mode": {
    "name": "ipython",
    "version": 3
   },
   "file_extension": ".py",
   "mimetype": "text/x-python",
   "name": "python",
   "nbconvert_exporter": "python",
   "pygments_lexer": "ipython3",
   "version": "3.9.13"
  },
  "orig_nbformat": 4,
  "vscode": {
   "interpreter": {
    "hash": "2145f33af11579e336f5bc30a7b318197c0175e9e4a72ffaa6a02aa5294ef5b7"
   }
  }
 },
 "nbformat": 4,
 "nbformat_minor": 2
}
