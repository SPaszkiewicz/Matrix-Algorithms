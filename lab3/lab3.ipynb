{
 "cells": [
  {
   "cell_type": "markdown",
   "metadata": {},
   "source": [
    "### Configuration"
   ]
  },
  {
   "cell_type": "code",
   "execution_count": 1,
   "metadata": {},
   "outputs": [],
   "source": [
    "import numpy as np\n",
    "import scipy.linalg as spl\n",
    "from typing import Tuple, List, Optional, Union\n",
    "\n",
    "%matplotlib inline\n",
    "import matplotlib.pyplot as plt"
   ]
  },
  {
   "cell_type": "markdown",
   "metadata": {},
   "source": [
    "### Generate Matrix"
   ]
  },
  {
   "cell_type": "code",
   "execution_count": 2,
   "metadata": {},
   "outputs": [],
   "source": [
    "def generate_matrix(ncols: int, nrows: int):\n",
    "    #return np.random.uniform(low=0.00000001, high=1.0, size=(nrows, ncols))\n",
    "    return np.random.randint(1, 9, size=(nrows, ncols))"
   ]
  },
  {
   "cell_type": "markdown",
   "metadata": {},
   "source": [
    "### Tree Classes"
   ]
  },
  {
   "cell_type": "code",
   "execution_count": 3,
   "metadata": {},
   "outputs": [],
   "source": [
    "class TreeBase():\n",
    "    def __init__(self) -> None:\n",
    "        self.size: Optional[Tuple(float, float, float, float)] = 0\n",
    "        self.rank: int = 0\n",
    "\n",
    "class TreeLeaf(TreeBase):\n",
    "    def __init__(self) -> None:\n",
    "        super().__init__()\n",
    "        self.singular_values: float = 0\n",
    "        self.U: np.ndarray = None\n",
    "        self.V: np.ndarray = None\n",
    "\n",
    "\n",
    "class TreeSplit(TreeBase):\n",
    "    def __init__(self) -> None:\n",
    "        super().__init__()\n",
    "        self.left_upper: TreeNode= None\n",
    "        self.right_upper: TreeNode = None\n",
    "        self.left_lower: TreeNode = None\n",
    "        self.right_lower: TreeNode = None\n",
    "\n",
    "TreeNode = Union[TreeLeaf, TreeSplit]"
   ]
  },
  {
   "cell_type": "markdown",
   "metadata": {},
   "source": [
    "### SVD"
   ]
  },
  {
   "cell_type": "code",
   "execution_count": 4,
   "metadata": {},
   "outputs": [],
   "source": [
    "def truncatedSVD(A, r):\n",
    "    rank = min(r, A.shape[0], A.shape[1])\n",
    "    u, s, v = spl.svd(A)\n",
    "    u = u[:, 0:rank]\n",
    "    v = v[0:rank, :]\n",
    "    s = s[0:rank]\n",
    "    return u, s, v"
   ]
  },
  {
   "cell_type": "markdown",
   "metadata": {},
   "source": [
    "### Matrix Compress"
   ]
  },
  {
   "cell_type": "code",
   "execution_count": 5,
   "metadata": {},
   "outputs": [],
   "source": [
    "def consist_of_zeros(A):\n",
    "    return np.all(A==0)\n",
    "\n",
    "def compress_matrix(A: np.ndarray, first_row: int, last_row: int, first_col: int, last_col: int, r: int) -> TreeLeaf:\n",
    "    v = TreeLeaf()\n",
    "    v.size = (first_row, last_row, first_col, last_col)\n",
    "    U, D, V = truncatedSVD(A, r + 1)\n",
    "    if consist_of_zeros(A):\n",
    "        v.rank = 0\n",
    "    else:\n",
    "        v.rank = r\n",
    "        v.singular_values = D[0 : r]\n",
    "        v.U = U[:, 0 : r]\n",
    "        v.V =  V[0 : r, :]\n",
    "    return v\n",
    "\n"
   ]
  },
  {
   "cell_type": "markdown",
   "metadata": {},
   "source": [
    "### CreateTree"
   ]
  },
  {
   "cell_type": "code",
   "execution_count": 6,
   "metadata": {},
   "outputs": [],
   "source": [
    "def create_tree(A: np.ndarray, first_row: int, last_row: int, first_col: int, last_col: int, r: int, eps: float) -> TreeNode:\n",
    "    new_A = A[first_row : last_row, first_col : last_col]\n",
    "    U, D, V = truncatedSVD(new_A, r + 1)\n",
    "    if r + 1 > D.shape[0] or D[r] < eps:\n",
    "        if D.shape[0] <= 2:\n",
    "            v = compress_matrix(new_A, first_row, last_row, first_col, last_col, 1)\n",
    "        else:\n",
    "            v = compress_matrix(new_A, first_row, last_row, first_col, last_col, r)\n",
    "    else:\n",
    "        v = TreeSplit()\n",
    "        middle_row = (first_row + last_row) // 2\n",
    "        middle_col = (first_col + last_col) // 2\n",
    "        v.left_upper = create_tree(A, first_row, middle_row, first_col, middle_col, r, eps)\n",
    "        v.right_upper = create_tree(A, first_row, middle_row, middle_col, last_col, r, eps)\n",
    "        v.left_lower = create_tree(A, middle_row, last_row, first_col, middle_col, r, eps)\n",
    "        v.right_lower = create_tree(A, middle_row, last_row, middle_col, last_col, r, eps)\n",
    "    return v"
   ]
  },
  {
   "cell_type": "markdown",
   "metadata": {},
   "source": [
    "### Decompose tree to matrix"
   ]
  },
  {
   "cell_type": "code",
   "execution_count": 7,
   "metadata": {},
   "outputs": [],
   "source": [
    "def decompose_tree(root: TreeNode) -> np.ndarray:\n",
    "    if isinstance(root, TreeLeaf):\n",
    "        if root.rank == 0:\n",
    "            row_size = root.size[1] - root.size[0]\n",
    "            col_size = root.size[3] - root.size[2]\n",
    "            return np.zeros((row_size, col_size))\n",
    "        else:\n",
    "            return root.U @ (root.singular_values * np.identity(len(root.singular_values))) @ root.V\n",
    "    else:\n",
    "        M11 = decompose_tree(root.left_upper)\n",
    "        M21 = decompose_tree(root.left_lower)\n",
    "        M12 = decompose_tree(root.right_upper)\n",
    "        M22 = decompose_tree(root.right_lower)\n",
    "        return np.concatenate(\n",
    "        [np.concatenate([M11, M12], axis=1),\n",
    "         np.concatenate([M21, M22], axis=1)],\n",
    "        axis=0,)\n"
   ]
  },
  {
   "cell_type": "markdown",
   "metadata": {},
   "source": [
    "### Create matrix to display tree"
   ]
  },
  {
   "cell_type": "code",
   "execution_count": 8,
   "metadata": {},
   "outputs": [],
   "source": [
    "def tree_to_draw_matrix(root: TreeNode) -> np.ndarray:\n",
    "    if isinstance(root, TreeLeaf):\n",
    "        row_size = root.size[1] - root.size[0]\n",
    "        col_size = root.size[3] - root.size[2]\n",
    "        if root.rank == 0:\n",
    "            return np.zeros((row_size, col_size))\n",
    "        else:\n",
    "            M = np.zeros((row_size, col_size))\n",
    "            for i in range(root.rank):\n",
    "                for row in range(row_size):\n",
    "                    M[row, i] = 1 \n",
    "                for col in range(col_size):\n",
    "                    M[i, col] = 1\n",
    "            return M\n",
    "                \n",
    "    else:\n",
    "        M11 = tree_to_draw_matrix(root.left_upper)\n",
    "        M21 = tree_to_draw_matrix(root.left_lower)\n",
    "        M12 = tree_to_draw_matrix(root.right_upper)\n",
    "        M22 = tree_to_draw_matrix(root.right_lower)\n",
    "        return np.concatenate(\n",
    "        [np.concatenate([M11, M12], axis=1),\n",
    "         np.concatenate([M21, M22], axis=1)],\n",
    "        axis=0,)"
   ]
  },
  {
   "cell_type": "markdown",
   "metadata": {},
   "source": [
    "### Draw matrix"
   ]
  },
  {
   "cell_type": "code",
   "execution_count": 9,
   "metadata": {},
   "outputs": [],
   "source": [
    "def draw_tree(root: TreeNode):\n",
    "    M = tree_to_draw_matrix(root)\n",
    "    fig = plt.figure()\n",
    "    fig.set_size_inches(18.5, 10.5)\n",
    "    where_0 = np.where(M == 0)\n",
    "    where_1 = np.where(M == 1)\n",
    "    M[where_0] = 1\n",
    "    M[where_1] = 0\n",
    "    plt.imshow(M, cmap='gray')"
   ]
  },
  {
   "cell_type": "markdown",
   "metadata": {},
   "source": [
    "### Compare results to function"
   ]
  },
  {
   "cell_type": "code",
   "execution_count": 10,
   "metadata": {},
   "outputs": [
    {
     "data": {
      "image/png": "[encoded data removed]",
      "text/plain": [
       "<Figure size 756x756 with 1 Axes>"
      ]
     },
     "metadata": {
      "needs_background": "light"
     },
     "output_type": "display_data"
    }
   ],
   "source": [
    "f = lambda x: 1*x**2 + 1\n",
    "\n",
    "def compare_to_function(x, y, f):\n",
    "    min_x = min(x)\n",
    "    max_x = max(x)\n",
    "    x_function = np.linspace(min_x, max_x, 100)\n",
    "    y_function = list(map(f, x_function))\n",
    "    fig = plt.figure()\n",
    "    fig.set_size_inches(10.5, 10.5)\n",
    "    plt.plot(x_function, y_function, 'r-')\n",
    "    plt.xlabel('Rozmiar macierzy')\n",
    "    plt.ylabel('Czas tworzenia drzewa')\n",
    "    \n",
    "\n",
    "compare_to_function([4, 16, 64, 256], [], f)"
   ]
  },
  {
   "cell_type": "markdown",
   "metadata": {},
   "source": [
    "### Tests"
   ]
  },
  {
   "cell_type": "code",
   "execution_count": 11,
   "metadata": {},
   "outputs": [],
   "source": [
    "A = generate_matrix(128, 128)\n",
    "def compress(A, r, eps) -> TreeNode:\n",
    "    return create_tree(A, 0, A.shape[0], 0, A.shape[1], r, eps)\n",
    "    \n",
    "node = compress(A, 1, 5)\n"
   ]
  },
  {
   "cell_type": "code",
   "execution_count": 12,
   "metadata": {},
   "outputs": [
    {
     "name": "stdout",
     "output_type": "stream",
     "text": [
      "[[4 4 7 ... 1 3 8]\n",
      " [7 4 4 ... 2 7 6]\n",
      " [2 1 4 ... 6 6 6]\n",
      " ...\n",
      " [6 5 8 ... 6 6 7]\n",
      " [1 1 6 ... 7 3 8]\n",
      " [4 7 8 ... 3 7 1]]\n"
     ]
    }
   ],
   "source": [
    "print(A)"
   ]
  },
  {
   "cell_type": "code",
   "execution_count": 13,
   "metadata": {},
   "outputs": [
    {
     "data": {
      "text/plain": [
       "array([[4.57490524, 3.17041147, 6.08644922, ..., 1.59259277, 4.85689763,\n",
       "        6.6422033 ],\n",
       "       [6.6015904 , 4.57490524, 5.09197032, ..., 0.76284808, 5.29756454,\n",
       "        7.2448512 ],\n",
       "       [0.50758989, 1.50375908, 4.        , ..., 5.92210776, 6.96685855,\n",
       "        4.50467048],\n",
       "       ...,\n",
       "       [4.41406597, 5.26826143, 7.52803481, ..., 5.15606139, 5.74632414,\n",
       "        7.20239162],\n",
       "       [2.44907686, 2.92301413, 4.17681476, ..., 5.54145696, 3.        ,\n",
       "        8.        ],\n",
       "       [5.05193211, 6.02956533, 8.61589317, ..., 4.71441339, 7.        ,\n",
       "        1.        ]])"
      ]
     },
     "execution_count": 13,
     "metadata": {},
     "output_type": "execute_result"
    }
   ],
   "source": [
    "decompose_tree(node)"
   ]
  },
  {
   "cell_type": "code",
   "execution_count": 14,
   "metadata": {},
   "outputs": [
    {
     "data": {
      "image/png": "[encoded data removed]",
      "text/plain": [
       "<Figure size 1332x756 with 1 Axes>"
      ]
     },
     "metadata": {
      "needs_background": "light"
     },
     "output_type": "display_data"
    }
   ],
   "source": [
    "draw_tree(node)\n"
   ]
  }
 ],
 "metadata": {
  "kernelspec": {
   "display_name": "Python 3.9.13 ('PSI')",
   "language": "python",
   "name": "python3"
  },
  "language_info": {
   "codemirror_mode": {
    "name": "ipython",
    "version": 3
   },
   "file_extension": ".py",
   "mimetype": "text/x-python",
   "name": "python",
   "nbconvert_exporter": "python",
   "pygments_lexer": "ipython3",
   "version": "3.9.13"
  },
  "orig_nbformat": 4,
  "vscode": {
   "interpreter": {
    "hash": "2145f33af11579e336f5bc30a7b318197c0175e9e4a72ffaa6a02aa5294ef5b7"
   }
  }
 },
 "nbformat": 4,
 "nbformat_minor": 2
}
