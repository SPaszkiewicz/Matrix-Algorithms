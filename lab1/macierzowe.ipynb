{
 "cells": [
  {
   "cell_type": "markdown",
   "metadata": {},
   "source": [
    "### Algorytmy Macierzowe lab 1"
   ]
  },
  {
   "cell_type": "markdown",
   "metadata": {},
   "source": [
    "#### Konfiguracja"
   ]
  },
  {
   "cell_type": "code",
   "execution_count": 1,
   "metadata": {},
   "outputs": [],
   "source": [
    "import numpy as np\n",
    "from math import log, ceil, pow\n",
    "from typing import Tuple"
   ]
  },
  {
   "cell_type": "markdown",
   "metadata": {},
   "source": [
    "#### Generowanie macierzy"
   ]
  },
  {
   "cell_type": "code",
   "execution_count": 2,
   "metadata": {},
   "outputs": [],
   "source": [
    "def generate_matrix(ncols: int, nrows: int):\n",
    "    return np.random.uniform(low=0.00000001, high=1.0, size=(nrows, ncols))\n"
   ]
  },
  {
   "cell_type": "markdown",
   "metadata": {},
   "source": [
    "#### Licznik operacji"
   ]
  },
  {
   "cell_type": "code",
   "execution_count": 3,
   "metadata": {},
   "outputs": [],
   "source": [
    "class Counter:\n",
    "    def __init__(self) -> None:\n",
    "        self.add_counter = 0\n",
    "        self.mul_counter = 0\n",
    "        self.div_counter = 0\n",
    "        self.sub_counter = 0\n",
    "        self.operation_counter = 0\n",
    "    \n",
    "    def add(self, A: np.ndarray , B: np.ndarray) -> np.ndarray:\n",
    "        self.add_counter += A.size\n",
    "        self.operation_counter += A.size\n",
    "        return A + B\n",
    "\n",
    "    def mul(self, A: np.ndarray , B: np.ndarray) -> np.ndarray:\n",
    "        self.mul_counter += A.size\n",
    "        self.operation_counter += A.size\n",
    "        return A * B\n",
    "    \n",
    "    def div(self, A: np.ndarray , B: np.ndarray) -> np.ndarray:\n",
    "        self.div_counter += A.size\n",
    "        self.operation_counter += A.size\n",
    "        return A / B\n",
    "\n",
    "    def sub(self, A: np.ndarray , B: np.ndarray) -> np.ndarray:\n",
    "        self.sub_counter += A.size\n",
    "        self.operation_counter += A.size\n",
    "        return A - B\n",
    "    \n",
    "    def print_counters(self) -> None:\n",
    "        print(f'Number of add operations: {self.add_counter}')\n",
    "        print(f'Number of sub operations: {self.sub_counter}')\n",
    "        print(f'Number of div operations: {self.div_counter}')\n",
    "        print(f'Number of mul operations: {self.mul_counter}')\n",
    "        print(f'Number of operations: {self.operation_counter}')\n",
    "        "
   ]
  },
  {
   "cell_type": "markdown",
   "metadata": {},
   "source": [
    "#### Funckje pomocniczne"
   ]
  },
  {
   "cell_type": "code",
   "execution_count": 4,
   "metadata": {},
   "outputs": [],
   "source": [
    "def resize_matrix_to_2n(A: np.ndarray, B: np.ndarray): \n",
    "    \"\"\"Change size of matrix to simplify processing\"\"\"\n",
    "    size_A = A.shape\n",
    "    size_B = B.shape\n",
    "    new_height: int = 0\n",
    "    new_width: int = 0\n",
    "\n",
    "    if size_A[0] > size_B[0]:\n",
    "        new_height = find_next_power_of_2(size_A[0])\n",
    "    else:\n",
    "        new_height = find_next_power_of_2(size_B[0])\n",
    "    \n",
    "    if size_A[1] > size_B[1]:\n",
    "        new_width = find_next_power_of_2(size_A[1])\n",
    "    else:\n",
    "        new_width = find_next_power_of_2(size_B[1])\n",
    "\n",
    "    new_A = np.pad(A, [(0, new_height - size_A[0]), (0, new_width - size_A[1])], mode='constant')\n",
    "    new_B = np.pad(B, [(0, new_height - size_B[0]), (0, new_width - size_B[1])], mode='constant')\n",
    "    return new_A, new_B\n",
    "\n",
    "def split(array: np.ndarray, nrows: int, ncols: int) -> Tuple:\n",
    "    \"\"\"Split a matrix into sub-matrices\"\"\"\n",
    "    r, h = array.shape\n",
    "    return (array.reshape(h//nrows, nrows, -1, ncols)\n",
    "                 .swapaxes(1, 2)\n",
    "                 .reshape(-1, nrows, ncols))\n",
    "\n",
    "\n",
    "def find_next_power_of_2(number: int) -> int:\n",
    "    \"\"\"Finds closest number that is power of 2\"\"\"\n",
    "    return int(pow(2, ceil(log(number)/log(2))))"
   ]
  },
  {
   "cell_type": "markdown",
   "metadata": {},
   "source": [
    "#### Algorytm Binet'a"
   ]
  },
  {
   "cell_type": "code",
   "execution_count": 5,
   "metadata": {},
   "outputs": [
    {
     "name": "stdout",
     "output_type": "stream",
     "text": [
      "Number of add operations: 448\n",
      "Number of sub operations: 0\n",
      "Number of div operations: 0\n",
      "Number of mul operations: 512\n",
      "Number of operations: 960\n",
      "[[1.10454905 1.32518391 1.84771259 0.68667529 1.6686534 ]\n",
      " [1.79169479 1.88205572 2.15919328 0.95166185 1.87633824]\n",
      " [0.61628624 0.80858628 1.03577516 0.48956302 0.90138651]\n",
      " [1.97038815 1.63285723 1.93555389 0.88291393 1.58302552]\n",
      " [1.94053189 1.69720273 2.11923906 0.98500766 1.73796585]]\n",
      "\n",
      "[[1.10454905 1.32518391 1.84771259 0.68667529 1.6686534 ]\n",
      " [1.79169479 1.88205572 2.15919328 0.95166185 1.87633824]\n",
      " [0.61628624 0.80858628 1.03577516 0.48956302 0.90138651]\n",
      " [1.97038815 1.63285723 1.93555389 0.88291393 1.58302552]\n",
      " [1.94053189 1.69720273 2.11923906 0.98500766 1.73796585]]\n"
     ]
    }
   ],
   "source": [
    "A = generate_matrix(5, 5)\n",
    "B = generate_matrix(5, 5)\n",
    "\n",
    "def binet_core_algorithm(A: np.ndarray, B: np.ndarray, counter: Counter) -> np.ndarray:\n",
    "    add = counter.add\n",
    "    sub = counter.sub\n",
    "    mul = counter.mul\n",
    "    if A.size > 1:\n",
    "        split_at = A.shape[0]//2\n",
    "        A11, A12, A21, A22 = split(A, split_at, split_at)\n",
    "        B11, B12, B21, B22 = split(B, split_at, split_at)\n",
    "        \n",
    "        C11 = add(binet_core_algorithm(A11, B11, counter), binet_core_algorithm(A12, B21, counter))\n",
    "        C12 = add(binet_core_algorithm(A11, B12, counter), binet_core_algorithm(A12, B22, counter))\n",
    "        C21 = add(binet_core_algorithm(A21, B11, counter), binet_core_algorithm(A22, B21, counter))\n",
    "        C22 = add(binet_core_algorithm(A21, B12, counter), binet_core_algorithm(A22, B22, counter))\n",
    "        \n",
    "        return np.concatenate(\n",
    "            [np.concatenate([C11, C12], axis = 1),\n",
    "            np.concatenate([C21, C22],axis = 1)],\n",
    "             axis = 0)\n",
    "    else:\n",
    "        return mul(A, B)\n",
    "\n",
    "def binet_algorithm(A: np.ndarray, B: np.ndarray) -> np.ndarray:\n",
    "    counter = Counter()\n",
    "    new_A, new_B = resize_matrix_to_2n(A, B)\n",
    "    C = binet_core_algorithm(new_A, new_B, counter)\n",
    "    counter.print_counters()\n",
    "    C = C[~np.all(C == 0, axis=1)]\n",
    "    C = C[:, ~np.all(C == 0, axis=0)]\n",
    "    return C\n",
    "\n",
    "print(binet_algorithm(A, B))\n",
    "print()\n",
    "print(A@B)"
   ]
  },
  {
   "cell_type": "markdown",
   "metadata": {},
   "source": [
    "#### Algorytm Strassen'a\n",
    "https://en.wikipedia.org/wiki/Strassen_algorithm\n",
    "Wszystkie oznaczenia tak jak tu"
   ]
  },
  {
   "cell_type": "code",
   "execution_count": 6,
   "metadata": {},
   "outputs": [
    {
     "name": "stdout",
     "output_type": "stream",
     "text": [
      "Number of add operations: 12\n",
      "Number of sub operations: 6\n",
      "Number of div operations: 0\n",
      "Number of mul operations: 7\n",
      "Number of operations: 25\n",
      "[[0.38806966 0.81600151]\n",
      " [0.7374566  1.13632061]]\n",
      "\n",
      "[[0.38806966 0.81600151]\n",
      " [0.7374566  1.13632061]]\n"
     ]
    }
   ],
   "source": [
    "A = generate_matrix(2, 2)\n",
    "B = generate_matrix(2, 2)\n",
    "\n",
    "def strassen_core_algorith(A: np.ndarray, B: np.ndarray, counter: Counter) -> np.ndarray:\n",
    "    add = counter.add\n",
    "    sub = counter.sub\n",
    "    mul = counter.mul\n",
    "    if A.size > 1:\n",
    "        split_at = A.shape[0]//2\n",
    "        A11, A12, A21, A22 = split(A, split_at, split_at)\n",
    "        B11, B12, B21, B22 = split(B, split_at, split_at)\n",
    "        \n",
    "        M1 = strassen_core_algorith(add(A11, A22), add(B11, B22), counter)\n",
    "        M2 = strassen_core_algorith(add(A21, A22), B11, counter)\n",
    "        M3 = strassen_core_algorith(A11, sub(B12, B22), counter)\n",
    "        M4 = strassen_core_algorith(A22, sub(B21, B11), counter)\n",
    "        M5 = strassen_core_algorith(add(A11, A12), B22, counter)\n",
    "        M6 = strassen_core_algorith(sub(A21, A11), add(B11, B12), counter)\n",
    "        M7 = strassen_core_algorith(sub(A12, A22), add(B21, B22), counter)    \n",
    "\n",
    "        C11 = add(sub(add(M1, M4), M5), M7)\n",
    "        C12 = add(M3, M5)\n",
    "        C21 = add(M2, M4)\n",
    "        C22 = add(add(sub(M1, M2), M3), M6)\n",
    "\n",
    "        return np.concatenate(\n",
    "            [np.concatenate([C11, C12], axis = 1),\n",
    "            np.concatenate([C21, C22],axis = 1)],\n",
    "             axis = 0)\n",
    "    else:\n",
    "        return mul(A, B)\n",
    "\n",
    "def strassen_algorith(A: np.ndarray, B: np.ndarray) -> np.ndarray:\n",
    "    counter = Counter()\n",
    "    new_A, new_B = resize_matrix_to_2n(A, B)\n",
    "    C = strassen_core_algorith(new_A, new_B, counter)\n",
    "    counter.print_counters()\n",
    "    C = C[~np.all(C == 0, axis=1)]\n",
    "    C = C[:, ~np.all(C == 0, axis=0)]\n",
    "    return C\n",
    "\n",
    "print(strassen_algorith(A, B))\n",
    "print()\n",
    "print(A@B)"
   ]
  },
  {
   "cell_type": "code",
   "execution_count": 7,
   "metadata": {},
   "outputs": [
    {
     "name": "stdout",
     "output_type": "stream",
     "text": [
      "Number of add operations: 10\n",
      "Number of sub operations: 7\n",
      "Number of div operations: 0\n",
      "Number of mul operations: 7\n",
      "Number of operations: 24\n",
      "[[0.43674186 0.46070067]\n",
      " [0.4829497  0.50692021]]\n",
      "\n",
      "[[0.43674186 0.46070067]\n",
      " [0.4829497  0.50692021]]\n"
     ]
    }
   ],
   "source": [
    "A = generate_matrix(2, 2)\n",
    "B = generate_matrix(2, 2)\n",
    "\n",
    "def w_core_algorithm(A: np.ndarray, B: np.ndarray, counter: Counter) -> np.ndarray:\n",
    "    add = counter.add\n",
    "    sub = counter.sub\n",
    "    mul = counter.mul\n",
    "    if A.size > 1:\n",
    "        split_at = A.shape[0]//2\n",
    "        A11, A12, A21, A22 = split(A, split_at, split_at)\n",
    "        B11, B12, B21, B22 = split(B, split_at, split_at)\n",
    "        C_A = sub(B12, B11)\n",
    "        C_D = add(A21, A22)\n",
    "        A_A = w_core_algorithm(A11, B11, counter)\n",
    "\n",
    "        U = w_core_algorithm(sub(A21, A11), sub(B12, B22), counter)\n",
    "        V = w_core_algorithm(C_D, C_A, counter)\n",
    "        W = add(A_A,\n",
    "        w_core_algorithm(sub(C_D, A11), sub(B22, C_A), counter))\n",
    "        W_U = add(W, U)\n",
    "\n",
    "        C11 =  add(A_A, w_core_algorithm(A12, B21, counter))\n",
    "        C12 = add(add(W, V), w_core_algorithm(sub(add(A11, A12), C_D), B22, counter))\n",
    "        C21 = add(W_U, w_core_algorithm(A22, sub(add(B21, C_A), B22), counter))\n",
    "        C22 = add(W_U, V)\n",
    "        \n",
    "        return np.concatenate(\n",
    "            [np.concatenate([C11, C12], axis = 1),\n",
    "            np.concatenate([C21, C22],axis = 1)],\n",
    "             axis = 0)\n",
    "    else:\n",
    "        return mul(A, B)\n",
    "\n",
    "def winograd_algorith(A: np.ndarray, B: np.ndarray) -> np.ndarray:\n",
    "    counter = Counter()\n",
    "    new_A, new_B = resize_matrix_to_2n(A, B)\n",
    "    C = w_core_algorithm(new_A, new_B, counter)\n",
    "    counter.print_counters()\n",
    "    C = C[~np.all(C == 0, axis=1)]\n",
    "    C = C[:, ~np.all(C == 0, axis=0)]\n",
    "    return C\n",
    "\n",
    "print(winograd_algorith(A, B))\n",
    "print()\n",
    "print(A@B)"
   ]
  }
 ],
 "metadata": {
  "kernelspec": {
   "display_name": "Python 3.8.10 64-bit",
   "language": "python",
   "name": "python3"
  },
  "language_info": {
   "codemirror_mode": {
    "name": "ipython",
    "version": 3
   },
   "file_extension": ".py",
   "mimetype": "text/x-python",
   "name": "python",
   "nbconvert_exporter": "python",
   "pygments_lexer": "ipython3",
   "version": "3.8.10"
  },
  "orig_nbformat": 4,
  "vscode": {
   "interpreter": {
    "hash": "31f2aee4e71d21fbe5cf8b01ff0e069b9275f58929596ceb00d14d90e3e16cd6"
   }
  }
 },
 "nbformat": 4,
 "nbformat_minor": 2
}
