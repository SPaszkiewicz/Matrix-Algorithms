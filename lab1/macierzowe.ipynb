{
 "cells": [
  {
   "cell_type": "markdown",
   "metadata": {},
   "source": [
    "### Algorytmy Macierzowe lab 1"
   ]
  },
  {
   "cell_type": "markdown",
   "metadata": {},
   "source": [
    "#### Konfiguracja"
   ]
  },
  {
   "cell_type": "code",
   "execution_count": 101,
   "metadata": {},
   "outputs": [],
   "source": [
    "import numpy as np\n",
    "from math import log, ceil, pow\n",
    "from typing import Tuple, List"
   ]
  },
  {
   "cell_type": "markdown",
   "metadata": {},
   "source": [
    "#### Generowanie macierzy"
   ]
  },
  {
   "cell_type": "code",
   "execution_count": 102,
   "metadata": {},
   "outputs": [],
   "source": [
    "def generate_matrix(ncols: int, nrows: int):\n",
    "    return np.random.uniform(low=0.00000001, high=1.0, size=(nrows, ncols))\n"
   ]
  },
  {
   "cell_type": "markdown",
   "metadata": {},
   "source": [
    "#### Licznik operacji"
   ]
  },
  {
   "cell_type": "code",
   "execution_count": 103,
   "metadata": {},
   "outputs": [],
   "source": [
    "class Counter:\n",
    "    def __init__(self) -> None:\n",
    "        self.add_counter = 0\n",
    "        self.mul_counter = 0\n",
    "        self.div_counter = 0\n",
    "        self.sub_counter = 0\n",
    "        self.operation_counter = 0\n",
    "    \n",
    "    def add(self, A: np.ndarray , B: np.ndarray) -> np.ndarray:\n",
    "        self.add_counter += A.size\n",
    "        self.operation_counter += A.size\n",
    "        return A + B\n",
    "\n",
    "    def mul(self, A: np.ndarray , B: np.ndarray) -> np.ndarray:\n",
    "        self.mul_counter += A.size\n",
    "        self.operation_counter += A.size\n",
    "        return A * B\n",
    "    \n",
    "    def div(self, A: np.ndarray , B: np.ndarray) -> np.ndarray:\n",
    "        self.div_counter += A.size\n",
    "        self.operation_counter += A.size\n",
    "        return A / B\n",
    "\n",
    "    def sub(self, A: np.ndarray , B: np.ndarray) -> np.ndarray:\n",
    "        self.sub_counter += A.size\n",
    "        self.operation_counter += A.size\n",
    "        return A - B\n",
    "    \n",
    "    def print_counters(self) -> None:\n",
    "        print(f'Number of add operations: {self.add_counter}')\n",
    "        print(f'Number of sub operations: {self.sub_counter}')\n",
    "        print(f'Number of div operations: {self.div_counter}')\n",
    "        print(f'Number of mul operations: {self.mul_counter}')\n",
    "        print(f'Number of operations: {self.operation_counter}')\n",
    "        "
   ]
  },
  {
   "cell_type": "markdown",
   "metadata": {},
   "source": [
    "#### Funckje pomocniczne"
   ]
  },
  {
   "cell_type": "code",
   "execution_count": 104,
   "metadata": {},
   "outputs": [],
   "source": [
    "def resize_matrix_to_2n(A: np.ndarray, B: np.ndarray): \n",
    "    \"\"\"Change size of matrix to simplify processing\"\"\"\n",
    "    size_A = A.shape\n",
    "    size_B = B.shape\n",
    "    new_height: int = 0\n",
    "    new_width: int = 0\n",
    "\n",
    "    if size_A[0] > size_B[0]:\n",
    "        new_height = find_next_power_of_2(size_A[0])\n",
    "    else:\n",
    "        new_height = find_next_power_of_2(size_B[0])\n",
    "    \n",
    "    if size_A[1] > size_B[1]:\n",
    "        new_width = find_next_power_of_2(size_A[1])\n",
    "    else:\n",
    "        new_width = find_next_power_of_2(size_B[1])\n",
    "\n",
    "    new_A = np.pad(A, [(0, new_height - size_A[0]), (0, new_width - size_A[1])], mode='constant')\n",
    "    new_B = np.pad(B, [(0, new_height - size_B[0]), (0, new_width - size_B[1])], mode='constant')\n",
    "    return new_A, new_B\n",
    "\n",
    "def split(array: np.ndarray, nrows: int, ncols: int) -> Tuple:\n",
    "    \"\"\"Split a matrix into sub-matrices\"\"\"\n",
    "    r, h = array.shape\n",
    "    return (array.reshape(h//nrows, nrows, -1, ncols)\n",
    "                 .swapaxes(1, 2)\n",
    "                 .reshape(-1, nrows, ncols))\n",
    "\n",
    "\n",
    "def find_next_power_of_2(number: int) -> int:\n",
    "    \"\"\"Finds closest number that is power of 2\"\"\"\n",
    "    return int(pow(2, ceil(log(number)/log(2))))"
   ]
  },
  {
   "cell_type": "markdown",
   "metadata": {},
   "source": [
    "#### Algorytm Binet'a"
   ]
  },
  {
   "cell_type": "code",
   "execution_count": 105,
   "metadata": {},
   "outputs": [
    {
     "name": "stdout",
     "output_type": "stream",
     "text": [
      "[[1.23626114 1.28258617 1.37668405 0.59573778 0.94856555]\n",
      " [0.81657207 1.54043045 1.37261401 0.64123712 1.02305185]\n",
      " [0.62723871 0.34917432 0.58737849 0.56349396 0.77051767]\n",
      " [0.83142601 1.24224737 1.39778118 0.93728967 1.40030769]\n",
      " [0.92963964 0.85556086 0.73033548 0.68679186 0.74918914]]\n",
      "Number of add operations: 448\n",
      "Number of sub operations: 0\n",
      "Number of div operations: 0\n",
      "Number of mul operations: 512\n",
      "Number of operations: 960\n",
      "\n",
      "[[1.23626114 1.28258617 1.37668405 0.59573778 0.94856555]\n",
      " [0.81657207 1.54043045 1.37261401 0.64123712 1.02305185]\n",
      " [0.62723871 0.34917432 0.58737849 0.56349396 0.77051767]\n",
      " [0.83142601 1.24224737 1.39778118 0.93728967 1.40030769]\n",
      " [0.92963964 0.85556086 0.73033548 0.68679186 0.74918914]]\n"
     ]
    }
   ],
   "source": [
    "A = generate_matrix(5, 5)\n",
    "B = generate_matrix(5, 5)\n",
    "\n",
    "def binet_core_algorithm(A: np.ndarray, B: np.ndarray, counter: Counter) -> np.ndarray:\n",
    "    add = counter.add\n",
    "    sub = counter.sub\n",
    "    mul = counter.mul\n",
    "    if A.size > 1:\n",
    "        split_at = A.shape[0]//2\n",
    "        A11, A12, A21, A22 = split(A, split_at, split_at)\n",
    "        B11, B12, B21, B22 = split(B, split_at, split_at)\n",
    "        \n",
    "        C11 = add(binet_core_algorithm(A11, B11, counter), binet_core_algorithm(A12, B21, counter))\n",
    "        C12 = add(binet_core_algorithm(A11, B12, counter), binet_core_algorithm(A12, B22, counter))\n",
    "        C21 = add(binet_core_algorithm(A21, B11, counter), binet_core_algorithm(A22, B21, counter))\n",
    "        C22 = add(binet_core_algorithm(A21, B12, counter), binet_core_algorithm(A22, B22, counter))\n",
    "        \n",
    "        return np.concatenate(\n",
    "            [np.concatenate([C11, C12], axis = 1),\n",
    "            np.concatenate([C21, C22],axis = 1)],\n",
    "             axis = 0)\n",
    "    else:\n",
    "        return mul(A, B)\n",
    "\n",
    "def binet_algorithm(A: np.ndarray, B: np.ndarray, counter: Counter) -> np.ndarray:\n",
    "    new_A, new_B = resize_matrix_to_2n(A, B)\n",
    "    C = binet_core_algorithm(new_A, new_B, counter)\n",
    "    C = C[~np.all(C == 0, axis=1)]\n",
    "    C = C[:, ~np.all(C == 0, axis=0)]\n",
    "    return C\n",
    "\n",
    "counter = Counter()\n",
    "print(binet_algorithm(A, B, counter))\n",
    "counter.print_counters()\n",
    "print()\n",
    "print(A@B)"
   ]
  },
  {
   "cell_type": "markdown",
   "metadata": {},
   "source": [
    "#### Algorytm Strassen'a\n",
    "https://en.wikipedia.org/wiki/Strassen_algorithm\n",
    "Wszystkie oznaczenia tak jak tu"
   ]
  },
  {
   "cell_type": "code",
   "execution_count": 106,
   "metadata": {},
   "outputs": [
    {
     "name": "stdout",
     "output_type": "stream",
     "text": [
      "[[0.57267314 0.52127893]\n",
      " [0.37738241 0.3564326 ]]\n",
      "Number of add operations: 12\n",
      "Number of sub operations: 6\n",
      "Number of div operations: 0\n",
      "Number of mul operations: 7\n",
      "Number of operations: 25\n",
      "\n",
      "[[0.57267314 0.52127893]\n",
      " [0.37738241 0.3564326 ]]\n"
     ]
    }
   ],
   "source": [
    "A = generate_matrix(2, 2)\n",
    "B = generate_matrix(2, 2)\n",
    "\n",
    "def strassen_core_algorith(A: np.ndarray, B: np.ndarray, counter: Counter) -> np.ndarray:\n",
    "    add = counter.add\n",
    "    sub = counter.sub\n",
    "    mul = counter.mul\n",
    "    if A.size > 1:\n",
    "        split_at = A.shape[0]//2\n",
    "        A11, A12, A21, A22 = split(A, split_at, split_at)\n",
    "        B11, B12, B21, B22 = split(B, split_at, split_at)\n",
    "        \n",
    "        M1 = strassen_core_algorith(add(A11, A22), add(B11, B22), counter)\n",
    "        M2 = strassen_core_algorith(add(A21, A22), B11, counter)\n",
    "        M3 = strassen_core_algorith(A11, sub(B12, B22), counter)\n",
    "        M4 = strassen_core_algorith(A22, sub(B21, B11), counter)\n",
    "        M5 = strassen_core_algorith(add(A11, A12), B22, counter)\n",
    "        M6 = strassen_core_algorith(sub(A21, A11), add(B11, B12), counter)\n",
    "        M7 = strassen_core_algorith(sub(A12, A22), add(B21, B22), counter)    \n",
    "\n",
    "        C11 = add(sub(add(M1, M4), M5), M7)\n",
    "        C12 = add(M3, M5)\n",
    "        C21 = add(M2, M4)\n",
    "        C22 = add(add(sub(M1, M2), M3), M6)\n",
    "\n",
    "        return np.concatenate(\n",
    "            [np.concatenate([C11, C12], axis = 1),\n",
    "            np.concatenate([C21, C22],axis = 1)],\n",
    "             axis = 0)\n",
    "    else:\n",
    "        return mul(A, B)\n",
    "\n",
    "def strassen_algorith(A: np.ndarray, B: np.ndarray, counter: Counter) -> np.ndarray:\n",
    "    new_A, new_B = resize_matrix_to_2n(A, B)\n",
    "    C = strassen_core_algorith(new_A, new_B, counter)\n",
    "    C = C[~np.all(C == 0, axis=1)]\n",
    "    C = C[:, ~np.all(C == 0, axis=0)]\n",
    "    return C\n",
    "\n",
    "counter = Counter()\n",
    "print(strassen_algorith(A, B, counter))\n",
    "counter.print_counters()\n",
    "print()\n",
    "print(A@B)"
   ]
  },
  {
   "cell_type": "code",
   "execution_count": 107,
   "metadata": {},
   "outputs": [
    {
     "name": "stdout",
     "output_type": "stream",
     "text": [
      "[[0.33636321 0.18547702]\n",
      " [0.51516149 0.33731311]]\n",
      "Number of add operations: 10\n",
      "Number of sub operations: 7\n",
      "Number of div operations: 0\n",
      "Number of mul operations: 7\n",
      "Number of operations: 24\n",
      "\n",
      "[[0.33636321 0.18547702]\n",
      " [0.51516149 0.33731311]]\n"
     ]
    }
   ],
   "source": [
    "A = generate_matrix(2, 2)\n",
    "B = generate_matrix(2, 2)\n",
    "\n",
    "def w_core_algorithm(A: np.ndarray, B: np.ndarray, counter: Counter) -> np.ndarray:\n",
    "    add = counter.add\n",
    "    sub = counter.sub\n",
    "    mul = counter.mul\n",
    "    if A.size > 1:\n",
    "        split_at = A.shape[0]//2\n",
    "        A11, A12, A21, A22 = split(A, split_at, split_at)\n",
    "        B11, B12, B21, B22 = split(B, split_at, split_at)\n",
    "        C_A = sub(B12, B11)\n",
    "        C_D = add(A21, A22)\n",
    "        A_A = w_core_algorithm(A11, B11, counter)\n",
    "\n",
    "        U = w_core_algorithm(sub(A21, A11), sub(B12, B22), counter)\n",
    "        V = w_core_algorithm(C_D, C_A, counter)\n",
    "        W = add(A_A,\n",
    "        w_core_algorithm(sub(C_D, A11), sub(B22, C_A), counter))\n",
    "        W_U = add(W, U)\n",
    "\n",
    "        C11 =  add(A_A, w_core_algorithm(A12, B21, counter))\n",
    "        C12 = add(add(W, V), w_core_algorithm(sub(add(A11, A12), C_D), B22, counter))\n",
    "        C21 = add(W_U, w_core_algorithm(A22, sub(add(B21, C_A), B22), counter))\n",
    "        C22 = add(W_U, V)\n",
    "        \n",
    "        return np.concatenate(\n",
    "            [np.concatenate([C11, C12], axis = 1),\n",
    "            np.concatenate([C21, C22],axis = 1)],\n",
    "             axis = 0)\n",
    "    else:\n",
    "        return mul(A, B)\n",
    "\n",
    "def winograd_algorithm(A: np.ndarray, B: np.ndarray, counter: Counter) -> np.ndarray:\n",
    "    new_A, new_B = resize_matrix_to_2n(A, B)\n",
    "    C = w_core_algorithm(new_A, new_B, counter)\n",
    "    C = C[~np.all(C == 0, axis=1)]\n",
    "    C = C[:, ~np.all(C == 0, axis=0)]\n",
    "    return C\n",
    "\n",
    "counter = Counter()\n",
    "print(winograd_algorithm(A, B, counter))\n",
    "counter.print_counters()\n",
    "print()\n",
    "print(A@B)"
   ]
  },
  {
   "cell_type": "markdown",
   "metadata": {},
   "source": [
    "#### Wykresy"
   ]
  },
  {
   "cell_type": "code",
   "execution_count": 108,
   "metadata": {},
   "outputs": [],
   "source": [
    "import matplotlib.pyplot as plt\n",
    "from time import time\n",
    "from matplotlib.ticker import FormatStrFormatter\n",
    "\n",
    "\n",
    "times_binet: List[float] = []\n",
    "flops_binet: List[int] = []\n",
    "\n",
    "power_basis = list(range(2, 9))\n",
    "powers = [2 ** k for k in power_basis]\n",
    "\n",
    "for k in power_basis:\n",
    "    A = np.random.rand(2 ** k, 2 ** k)\n",
    "    B = np.random.rand(2 ** k, 2 ** k)\n",
    "\n",
    "    counter = Counter()\n",
    "    start_time: float = time()\n",
    "\n",
    "    binet_algorithm(A, B, counter)\n",
    "\n",
    "    total_time: float = time() - start_time\n",
    "\n",
    "    times_binet.append(total_time)\n",
    "    flops_binet.append(counter.operation_counter)\n",
    "\n",
    "\n"
   ]
  },
  {
   "cell_type": "code",
   "execution_count": 120,
   "metadata": {},
   "outputs": [
    {
     "data": {
      "text/plain": [
       "[<matplotlib.lines.Line2D at 0x7f3eebadf100>]"
      ]
     },
     "execution_count": 120,
     "metadata": {},
     "output_type": "execute_result"
    },
    {
     "data": {
      "image/png": "[encoded data removed]",
      "text/plain": [
       "<Figure size 432x288 with 1 Axes>"
      ]
     },
     "metadata": {
      "needs_background": "light"
     },
     "output_type": "display_data"
    }
   ],
   "source": [
    "plt.gca().yaxis.set_major_formatter(FormatStrFormatter('%d s'))\n",
    "plt.xlabel(\"Rozmiar macierzy\")\n",
    "plt.ylabel(\"Czas\")\n",
    "plt.plot(powers, times_binet)"
   ]
  },
  {
   "cell_type": "code",
   "execution_count": 118,
   "metadata": {},
   "outputs": [
    {
     "data": {
      "text/plain": [
       "[<matplotlib.lines.Line2D at 0x7f3eeba7e5b0>]"
      ]
     },
     "execution_count": 118,
     "metadata": {},
     "output_type": "execute_result"
    },
    {
     "data": {
      "image/png": "[encoded data removed]",
      "text/plain": [
       "<Figure size 432x288 with 1 Axes>"
      ]
     },
     "metadata": {
      "needs_background": "light"
     },
     "output_type": "display_data"
    }
   ],
   "source": [
    "plt.xlabel(\"Rozmiar macierzy\")\n",
    "plt.ylabel(\"Ilość flopsów\")\n",
    "plt.plot(powers, flops_binet)"
   ]
  },
  {
   "cell_type": "code",
   "execution_count": 111,
   "metadata": {},
   "outputs": [],
   "source": [
    "times_strassen: List[float] = []\n",
    "flops_strassen: List[int] = []\n",
    "\n",
    "for k in power_basis:\n",
    "    A = np.random.rand(2 ** k, 2 ** k)\n",
    "    B = np.random.rand(2 ** k, 2 ** k)\n",
    "\n",
    "    counter = Counter()\n",
    "    start_time: float = time()\n",
    "\n",
    "    strassen_algorith(A, B, counter)\n",
    "\n",
    "    total_time: float = time() - start_time\n",
    "\n",
    "    times_strassen.append(total_time)\n",
    "    flops_strassen.append(counter.operation_counter)"
   ]
  },
  {
   "cell_type": "code",
   "execution_count": 119,
   "metadata": {},
   "outputs": [
    {
     "data": {
      "text/plain": [
       "[<matplotlib.lines.Line2D at 0x7f3eeb827850>]"
      ]
     },
     "execution_count": 119,
     "metadata": {},
     "output_type": "execute_result"
    },
    {
     "data": {
      "image/png": "[encoded data removed]",
      "text/plain": [
       "<Figure size 432x288 with 1 Axes>"
      ]
     },
     "metadata": {
      "needs_background": "light"
     },
     "output_type": "display_data"
    }
   ],
   "source": [
    "plt.gca().yaxis.set_major_formatter(FormatStrFormatter('%d s'))\n",
    "plt.xlabel(\"Rozmiar macierzy\")\n",
    "plt.ylabel(\"Czas\")\n",
    "plt.plot(powers, times_strassen)"
   ]
  },
  {
   "cell_type": "code",
   "execution_count": 121,
   "metadata": {},
   "outputs": [
    {
     "data": {
      "text/plain": [
       "[<matplotlib.lines.Line2D at 0x7f3eeb7946d0>]"
      ]
     },
     "execution_count": 121,
     "metadata": {},
     "output_type": "execute_result"
    },
    {
     "data": {
      "image/png": "[encoded data removed]",
      "text/plain": [
       "<Figure size 432x288 with 1 Axes>"
      ]
     },
     "metadata": {
      "needs_background": "light"
     },
     "output_type": "display_data"
    }
   ],
   "source": [
    "plt.xlabel(\"Rozmiar macierzy\")\n",
    "plt.ylabel(\"Ilość flopsów\")\n",
    "plt.plot(powers, flops_strassen)"
   ]
  },
  {
   "cell_type": "code",
   "execution_count": 114,
   "metadata": {},
   "outputs": [],
   "source": [
    "times_winograd: List[float] = []\n",
    "flops_winograd: List[int] = []\n",
    "\n",
    "for k in power_basis:\n",
    "    A = np.random.rand(2 ** k, 2 ** k)\n",
    "    B = np.random.rand(2 ** k, 2 ** k)\n",
    "\n",
    "    counter = Counter()\n",
    "    start_time: float = time()\n",
    "\n",
    "    winograd_algorithm(A, B, counter)\n",
    "\n",
    "    total_time: float = time() - start_time\n",
    "\n",
    "    times_winograd.append(total_time)\n",
    "    flops_winograd.append(counter.operation_counter)"
   ]
  },
  {
   "cell_type": "code",
   "execution_count": 115,
   "metadata": {},
   "outputs": [
    {
     "data": {
      "text/plain": [
       "[<matplotlib.lines.Line2D at 0x7f3eeb8765b0>]"
      ]
     },
     "execution_count": 115,
     "metadata": {},
     "output_type": "execute_result"
    },
    {
     "data": {
      "image/png": "[encoded data removed]",
      "text/plain": [
       "<Figure size 432x288 with 1 Axes>"
      ]
     },
     "metadata": {
      "needs_background": "light"
     },
     "output_type": "display_data"
    }
   ],
   "source": [
    "plt.gca().yaxis.set_major_formatter(FormatStrFormatter('%d s'))\n",
    "plt.xlabel(\"Rozmiar macierzy\")\n",
    "plt.ylabel(\"Czas\")\n",
    "plt.plot(powers, times_winograd)"
   ]
  },
  {
   "cell_type": "code",
   "execution_count": 116,
   "metadata": {},
   "outputs": [
    {
     "data": {
      "text/plain": [
       "[<matplotlib.lines.Line2D at 0x7f3eeb856670>]"
      ]
     },
     "execution_count": 116,
     "metadata": {},
     "output_type": "execute_result"
    },
    {
     "data": {
      "image/png": "[encoded data removed]",
      "text/plain": [
       "<Figure size 432x288 with 1 Axes>"
      ]
     },
     "metadata": {
      "needs_background": "light"
     },
     "output_type": "display_data"
    }
   ],
   "source": [
    "plt.xlabel(\"Rozmiar macierzy\")\n",
    "plt.ylabel(\"Ilość flopsów\")\n",
    "plt.plot(powers, flops_winograd)"
   ]
  },
  {
   "cell_type": "code",
   "execution_count": 117,
   "metadata": {},
   "outputs": [
    {
     "name": "stdout",
     "output_type": "stream",
     "text": [
      "[[ 48  57  66]\n",
      " [ 60  72  84]\n",
      " [ 72  87 102]]\n"
     ]
    }
   ],
   "source": [
    "A = np.array([[1, 3, 5], [2, 4, 6], [3, 5, 7]])\n",
    "B = np.array([[1, 2, 3], [4, 5, 6], [7, 8, 9]])\n",
    "\n",
    "print(binet_algorithm(A, B, Counter()))"
   ]
  },
  {
   "cell_type": "code",
   "execution_count": null,
   "metadata": {},
   "outputs": [],
   "source": []
  },
  {
   "cell_type": "code",
   "execution_count": null,
   "metadata": {},
   "outputs": [],
   "source": []
  }
 ],
 "metadata": {
  "kernelspec": {
   "display_name": "Python 3.8.10 64-bit",
   "language": "python",
   "name": "python3"
  },
  "language_info": {
   "codemirror_mode": {
    "name": "ipython",
    "version": 3
   },
   "file_extension": ".py",
   "mimetype": "text/x-python",
   "name": "python",
   "nbconvert_exporter": "python",
   "pygments_lexer": "ipython3",
   "version": "3.8.10"
  },
  "orig_nbformat": 4,
  "vscode": {
   "interpreter": {
    "hash": "31f2aee4e71d21fbe5cf8b01ff0e069b9275f58929596ceb00d14d90e3e16cd6"
   }
  }
 },
 "nbformat": 4,
 "nbformat_minor": 2
}
